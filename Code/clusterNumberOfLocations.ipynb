{
 "cells": [
  {
   "cell_type": "code",
   "execution_count": 1,
   "metadata": {},
   "outputs": [],
   "source": [
    "from datetime import time\n",
    "import datetime\n",
    "import pandas as pd\n",
    "from pandas import DataFrame\n",
    "import pdb\n",
    "from itertools import groupby\n",
    "import re"
   ]
  },
  {
   "cell_type": "code",
   "execution_count": 2,
   "metadata": {},
   "outputs": [],
   "source": [
    "filename_entire = 'day_in_the_life.xls'\n",
    "duration_threshold = 60"
   ]
  },
  {
   "cell_type": "code",
   "execution_count": 3,
   "metadata": {},
   "outputs": [],
   "source": [
    "def difftime(df):\n",
    "    # df = pd.read_excel(filename_entire, index=None)\n",
    "    for index, row in df.iterrows():\n",
    "        if pd.isnull(row['Time of Departure']) | pd.isnull(row['Time of Arrival']):\n",
    "            df.loc[index,'Duration'] = 'NULL'\n",
    "        elif pd.isnull(re.match(\"[0000]+\",str(row['Time of Departure']))) & pd.isnull(re.match(\"[0000]+\",str(row['Time of Arrival']))):\n",
    "            df.loc[index, 'Duration'] = ((row['Time of Departure']-row['Time of Arrival']).seconds)/60\n",
    "            # print(df.loc[index, 'Duration'])\n",
    "        else:\n",
    "            df.loc[index, 'Duration'] = 'NULL'\n",
    "    return df\n",
    "#     DataFrame(df).to_excel(filename_entire, sheet_name='day_in_the_life', index=False, header=True)"
   ]
  },
  {
   "cell_type": "code",
   "execution_count": 14,
   "metadata": {},
   "outputs": [],
   "source": [
    "def abbreviation(df):\n",
    "    # df = pd.read_excel(filepath, index=None)\n",
    "#     pdb.set_trace()\n",
    "    location_types = []\n",
    "    locatypes_abb = []\n",
    "    for index, row in df.iterrows():\n",
    "        drop = re.sub(u\"\\\\(.*?\\\\)\",\"\",row['Location_Type'])\n",
    "        strip = drop.strip()\n",
    "        if strip not in location_types:\n",
    "            location_types.append(strip)\n",
    "        abbre = \"\".join([i[0].upper() for i in strip.split(\" \")])\n",
    "        if strip == \"Public Transport\":\n",
    "            abbre = 'PubT'\n",
    "        if strip == \"Private Transport\":\n",
    "            abbre = 'PriT'\n",
    "        if abbre not in locatypes_abb:\n",
    "            locatypes_abb.append(abbre)\n",
    "        df.loc[index, 'Location_Type'] = abbre\n",
    "    # DataFrame(df).to_excel(filepath, sheet_name='day_in_the_life', index=False, header=True)\n",
    "    location_types.sort()\n",
    "    locatypes_abb.sort()\n",
    "    return df, location_types, locatypes_abb"
   ]
  },
  {
   "cell_type": "code",
   "execution_count": 12,
   "metadata": {},
   "outputs": [],
   "source": [
    "def move(df):\n",
    "    # df = pd.read_excel(filepath, index=None)\n",
    "    for index, row in df.iterrows():\n",
    "        if row['Location_Type'] in [\"PubT\",\"CJ\",\"PriT\"]:\n",
    "            df.loc[index, 'Location_Type'] = \"M\"\n",
    "    # DataFrame(df).to_excel(filepath, sheet_name='day_in_the_life', index=False, header=True)\n",
    "    return df"
   ]
  },
  {
   "cell_type": "code",
   "execution_count": 6,
   "metadata": {},
   "outputs": [],
   "source": [
    "def drop_continuous_repeat_types(df):\n",
    "    row_del = []\n",
    "    for index, row in df.iterrows():\n",
    "        \n",
    "        if (index > 0) & (df.iloc[index-1]['Subject'] == df.iloc[index]['Subject']) & (df.iloc[index]['Location_Type'] == df.iloc[index-1]['Location_Type']):\n",
    "            df.loc[index, 'Duration'] = df.iloc[index-1]['Duration'] + df.iloc[index]['Duration']\n",
    "            row_del.append(index-1)\n",
    "    \n",
    "    df = df.drop(row_del, axis=0)\n",
    "    row_del_thres = []\n",
    "    for index, row in df.iterrows():\n",
    "        if row['Duration'] < 0:\n",
    "            row_del_thres.append(index)\n",
    "    df = df.drop(row_del_thres, axis=0)\n",
    "    return df"
   ]
  },
  {
   "cell_type": "code",
   "execution_count": 7,
   "metadata": {},
   "outputs": [],
   "source": [
    "def merge_locationType(df):\n",
    "#     row_del = []\n",
    "#     for index, row in df.iterrows():\n",
    "#         if (index > 0) & (df.iloc[index-1]['Subject'] == df.iloc[index]['Subject']) & (df.iloc[index]['Location_Type'] == df.iloc[index-1]['Location_Type']):\n",
    "#             df.loc[index, 'Duration'] = df.iloc[index-1]['Duration'] + df.iloc[index]['Duration']\n",
    "#             row_del.append(index-1)\n",
    "#     pdb.set_trace()\n",
    "#     df = df.drop(row_del, axis=0)\n",
    "#     row_del_thres = []\n",
    "#     for index, row in df.iterrows():\n",
    "#         if row['Duration'] < duration_threshold:\n",
    "#             row_del_thres.append(index)\n",
    "#     df = df.drop(row_del_thres, axis=0)\n",
    "    df = df.groupby(['Subject', 'Age', 'Gender'])['Location_Type'].apply(ab)\n",
    "    df = df.reset_index()\n",
    "#     df_test = df_norepeat.groupby(['Subject', 'Age', 'Gender']).apply(lambda x: pd.Series({\n",
    "#                                                           'Types_merge'        : ab(x['Location_Type']),\n",
    "#                                                           'Duration_sum'       : x['Duration'].sum()\n",
    "#                                                       })\n",
    "#                                                     )\n",
    "#     df_test = df_test.reset_index()\n",
    "    # DataFrame(df).to_excel(filepath, sheet_name='day_in_the_life', index=False, header=True)\n",
    "    return df"
   ]
  },
  {
   "cell_type": "code",
   "execution_count": 8,
   "metadata": {},
   "outputs": [],
   "source": [
    "def ab(df):\n",
    "#     pdb.set_trace()\n",
    "    locations = df.values\n",
    "#     locations_dupe = [x[0] for x in groupby(locations)]\n",
    "    return '-'.join(locations.tolist())"
   ]
  },
  {
   "cell_type": "code",
   "execution_count": 9,
   "metadata": {},
   "outputs": [],
   "source": [
    "def drop_repeat_types(df):\n",
    "    df = df.groupby(['Subject', 'Age', 'Gender','Location_Type'])['Duration'].apply(sum)\n",
    "    df = df.reset_index()\n",
    "    return df"
   ]
  },
  {
   "cell_type": "code",
   "execution_count": 10,
   "metadata": {},
   "outputs": [],
   "source": [
    "def append(df):\n",
    "#     pdb.set_trace()\n",
    "    values = df.values\n",
    "    return values.tolist()"
   ]
  },
  {
   "cell_type": "code",
   "execution_count": 15,
   "metadata": {},
   "outputs": [
    {
     "name": "stdout",
     "output_type": "stream",
     "text": [
      "['AAC', 'CJ', 'H', 'O', 'PS', 'PriT', 'PubT', 'R', 'RAH', 'S', 'SAR', 'W']\n",
      "['Arts and culture', 'Car journey', 'Home', 'Other', 'Private Transport', 'Public Transport', 'Public spaces', 'Refused', 'Retail and hospitality', 'Sport and recreation', 'Study', 'Work']\n"
     ]
    }
   ],
   "source": [
    "# read csv as dataframe\n",
    "df = pd.read_excel(filename_entire, index=None)\n",
    "\n",
    "# strip out content in parentheses and get first character to represent the word\n",
    "df_abb, location_types, location_abb = abbreviation(df)\n",
    "\n",
    "print(location_abb)\n",
    "print(location_types)\n",
    "# make all on the way location type as M\n",
    "# df_move = move(df_abb)\n",
    "\n",
    "# drop repeat\n",
    "df_no_conrepeat = drop_continuous_repeat_types(df_abb)\n",
    "df_norepeat = drop_repeat_types(df_no_conrepeat)\n",
    "# merge all the location type for one subject\n",
    "# df_merge = merge_locationType(df_norepeat)\n"
   ]
  },
  {
   "cell_type": "code",
   "execution_count": 19,
   "metadata": {},
   "outputs": [
    {
     "name": "stdout",
     "output_type": "stream",
     "text": [
      "4354\n"
     ]
    }
   ],
   "source": [
    "print(len(df_norepeat))"
   ]
  },
  {
   "cell_type": "code",
   "execution_count": 25,
   "metadata": {},
   "outputs": [],
   "source": [
    "df_test_dic = df_abb.groupby(['Subject', 'Age', 'Gender']).apply(lambda x: pd.Series({\n",
    "                                                              'Types_merge'        : ab(x['Location_Type']),\n",
    "                                                              'Duration_sum'       : append(x['Duration'])\n",
    "                                                          })\n",
    "                                                        )\n",
    "df_test_dic = df_test_dic.reset_index()"
   ]
  },
  {
   "cell_type": "code",
   "execution_count": 26,
   "metadata": {},
   "outputs": [],
   "source": [
    "df_test = df_norepeat.groupby(['Subject', 'Age', 'Gender']).apply(lambda x: pd.Series({\n",
    "                                                              'Types_merge'        : ab(x['Location_Type']),\n",
    "                                                              'Duration_sum'       : append(x['Duration'])\n",
    "                                                          })\n",
    "                                                        )\n",
    "df_test = df_test.reset_index()"
   ]
  },
  {
   "cell_type": "code",
   "execution_count": 31,
   "metadata": {},
   "outputs": [],
   "source": [
    "import numpy as np"
   ]
  },
  {
   "cell_type": "code",
   "execution_count": 27,
   "metadata": {},
   "outputs": [],
   "source": [
    "def vectorize(df):\n",
    "    X_type = []\n",
    "    X_duration = []\n",
    "    for index, row in df.iterrows():\n",
    "        vector_type = [0,0,0,0,0,0,0,0,0,0,0]\n",
    "        vector_duration = [0,0,0,0,0,0,0,0,0,0,0]\n",
    "        location_types = df.iloc[index]['Types_merge'].split(\"-\")\n",
    "        durations = df.iloc[index]['Duration_sum']\n",
    "#         pdb.set_trace()\n",
    "#         print(index)\n",
    "        for i,location_type in enumerate(location_types):\n",
    "            if location_type == 'AAC':\n",
    "                vector_type[0] = 1\n",
    "                vector_duration[0] = durations[i]\n",
    "            elif location_type == 'CJ':\n",
    "                vector_type[1] = 1\n",
    "                vector_duration[1] = durations[i]\n",
    "            elif location_type == 'H':\n",
    "                vector_type[2] = 1\n",
    "                vector_duration[2] = durations[i]\n",
    "            elif location_type == 'O':\n",
    "                vector_type[3] = 1\n",
    "                vector_duration[3] = durations[i]\n",
    "            elif location_type == 'PS':\n",
    "                vector_type[4] = 1\n",
    "                vector_duration[4] = durations[i]\n",
    "            elif location_type == 'PriT':\n",
    "                vector_type[5] = 1\n",
    "                vector_duration[5] = durations[i]\n",
    "            elif location_type == 'PubT':\n",
    "                vector_type[6] = 1\n",
    "                vector_duration[6] = durations[i]\n",
    "            elif location_type == 'RAH':\n",
    "                vector_type[7] = 1\n",
    "                vector_duration[7] = durations[i]\n",
    "            elif location_type == 'S':\n",
    "                vector_type[8] = 1\n",
    "                vector_duration[8] = durations[i]\n",
    "            elif location_type == 'SAR':\n",
    "                vector_type[9] = 1\n",
    "                vector_duration[9] = durations[i]\n",
    "            elif location_type == 'W':\n",
    "                vector_type[10] = 1\n",
    "                vector_duration[10] = durations[i]\n",
    "        X_type.append(vector_type)\n",
    "        X_duration.append(vector_duration)\n",
    "    return X_type,X_duration"
   ]
  },
  {
   "cell_type": "code",
   "execution_count": 28,
   "metadata": {},
   "outputs": [],
   "source": [
    "X_location_type, X_duration = vectorize(df_test)"
   ]
  },
  {
   "cell_type": "code",
   "execution_count": 32,
   "metadata": {},
   "outputs": [],
   "source": [
    "np.savetxt('datarepre_01',X_location_type)\n",
    "np.savetxt('datarepre_duration_norder',X_duration)"
   ]
  },
  {
   "cell_type": "code",
   "execution_count": 39,
   "metadata": {},
   "outputs": [],
   "source": [
    "# a = np.loadtxt('datarepre_format_01')\n",
    "# print(a)"
   ]
  },
  {
   "cell_type": "code",
   "execution_count": 42,
   "metadata": {},
   "outputs": [],
   "source": [
    "from collections import defaultdict\n",
    "def vectorize_dic(df):\n",
    "    X_dic_times = []\n",
    "    X_dic_duration = []\n",
    "    X_freq = []\n",
    "    duration_order = []\n",
    "    text_type = []\n",
    "    for index, row in df.iterrows():\n",
    "        vector_type_freq = [0,0,0,0,0,0,0,0,0,0,0]\n",
    "        dic_times = defaultdict(int)\n",
    "        dic_duration = defaultdict(int)\n",
    "        location_types = df.iloc[index]['Types_merge'].split(\"-\")\n",
    "        durations = df.iloc[index]['Duration_sum']\n",
    "#         pdb.set_trace()\n",
    "#         print(index)\n",
    "        for i,location_type in enumerate(location_types):\n",
    "            if location_type == 'AAC':\n",
    "                dic_times['AAC'] += 1\n",
    "                dic_duration['AAC'] += durations[i]\n",
    "                vector_type_freq[0] += 1\n",
    "            elif location_type == 'CJ':\n",
    "                dic_times['CJ'] += 1\n",
    "                dic_duration['CJ'] += durations[i]\n",
    "                vector_type_freq[1] += 1\n",
    "            elif location_type == 'H':\n",
    "                dic_times['H'] += 1\n",
    "                dic_duration['H'] += durations[i]\n",
    "                vector_type_freq[2] += 1\n",
    "            elif location_type == 'O':\n",
    "                dic_times['O'] += 1\n",
    "                dic_duration['O'] += durations[i]\n",
    "                vector_type_freq[3] += 1\n",
    "            elif location_type == 'PS':\n",
    "                dic_times['PS'] += 1\n",
    "                dic_duration['PS'] += durations[i]\n",
    "                vector_type_freq[4] += 1\n",
    "            elif location_type == 'PriT':\n",
    "                dic_times['PriT'] += 1\n",
    "                dic_duration['PriT'] += durations[i]\n",
    "                vector_type_freq[5] += 1\n",
    "            elif location_type == 'PubT':\n",
    "                dic_times['PubT'] += 1\n",
    "                dic_duration['PubT'] += durations[i]\n",
    "                vector_type_freq[6] += 1\n",
    "            elif location_type == 'RAH':\n",
    "                dic_times['RAH'] += 1\n",
    "                dic_duration['RAH'] += durations[i]\n",
    "                vector_type_freq[7] += 1\n",
    "            elif location_type == 'S':\n",
    "                dic_times['S'] += 1\n",
    "                dic_duration['S'] += durations[i]\n",
    "                vector_type_freq[8] += 1\n",
    "            elif location_type == 'SAR':\n",
    "                dic_times['SAR'] += 1\n",
    "                dic_duration['SAR'] += durations[i]\n",
    "                vector_type_freq[9] += 1\n",
    "            elif location_type == 'W':\n",
    "                dic_times['W'] += 1\n",
    "                dic_duration['W'] += durations[i]\n",
    "                vector_type_freq[10] += 1\n",
    "        X_freq.append(vector_type_freq)    \n",
    "        X_dic_times.append(dic_times)\n",
    "        X_dic_duration.append(dic_duration)\n",
    "        duration_order.append(durations)\n",
    "        text_type.append(location_types)\n",
    "    return X_dic_times,X_dic_duration, X_freq, duration_order, text_type"
   ]
  },
  {
   "cell_type": "code",
   "execution_count": 43,
   "metadata": {},
   "outputs": [],
   "source": [
    "X_location_type_dic, X_duration_dic, X_freq, duration_order, text_type = vectorize_dic(df_test_dic)"
   ]
  },
  {
   "cell_type": "code",
   "execution_count": null,
   "metadata": {},
   "outputs": [],
   "source": [
    "np.savetxt('datarepre_frequency',X_freq)\n",
    "np.savetxt('datarepre_duration_order',duration_order)\n",
    "np.savetxt('datarepre_text_type',text_type)"
   ]
  },
  {
   "cell_type": "code",
   "execution_count": 47,
   "metadata": {},
   "outputs": [
    {
     "name": "stdout",
     "output_type": "stream",
     "text": [
      "[['H'], ['H', 'PriT', 'RAH', 'RAH', 'PriT', 'H', 'PriT', 'RAH', 'PriT', 'H', 'PriT', 'RAH', 'PriT'], ['H', 'CJ', 'SAR', 'RAH', 'CJ', 'H'], ['H', 'PS', 'H', 'RAH', 'H'], ['H', 'PriT', 'O', 'PriT', 'RAH', 'H', 'W', 'RAH', 'H'], ['H'], ['H'], ['H', 'W', 'S', 'H', 'RAH', 'AAC', 'H', 'S', 'H'], ['H'], ['H', 'RAH', 'H'], ['H', 'PriT', 'SAR', 'RAH', 'PriT', 'H'], ['H', 'PS', 'S', 'PS', 'H', 'CJ', 'S', 'PriT', 'H'], ['H', 'PS', 'RAH', 'H', 'PriT', 'AAC', 'PriT', 'H'], ['O', 'H', 'O', 'H'], ['H'], ['H'], ['H', 'PriT', 'PriT', 'H', 'PriT', 'RAH', 'PriT', 'O', 'PriT', 'H', 'PriT', 'O', 'PriT', 'H'], ['H', 'PS', 'O', 'H', 'O', 'H'], ['H', 'PriT', 'W', 'PriT', 'H'], ['H', 'PS', 'S', 'PS', 'H', 'RAH', 'RAH', 'H', 'O', 'S', 'H'], ['H', 'RAH', 'PriT', 'RAH', 'RAH', 'PriT', 'RAH', 'S', 'PriT', 'SAR', 'H', 'H'], ['H', 'PubT', 'W', 'PubT', 'H'], ['H', 'PS', 'H', 'PriT', 'O', 'PriT', 'S', 'PriT', 'W', 'H', 'W', 'H'], ['H', 'PriT', 'RAH', 'H', 'W', 'PriT', 'H'], ['H', 'PriT', 'O', 'PriT', 'H'], ['H', 'PriT', 'S', 'W', 'S', 'H'], ['H', 'PriT', 'O', 'H'], ['H', 'PubT', 'S', 'PubT', 'H'], ['H', 'O', 'RAH', 'H'], ['H', 'RAH', 'H'], ['H', 'PriT', 'S', 'PriT', 'PriT', 'S', 'PriT', 'W', 'PriT', 'RAH', 'PriT', 'PriT', 'O', 'PriT'], ['H', 'PriT', 'S', 'PriT', 'RAH', 'H', 'O', 'S', 'H', 'PriT', 'H'], ['H', 'SAR', 'RAH', 'RAH', 'RAH', 'H'], ['O', 'PriT', 'O', 'PriT', 'PriT', 'H'], ['W', 'H'], ['H', 'PriT', 'W', 'PriT', 'H'], ['H', 'PriT', 'W', 'PriT', 'H'], ['H', 'PriT', 'S', 'SAR', 'RAH', 'RAH', 'PriT', 'H', 'CJ', 'RAH', 'PriT', 'H', 'CJ', 'S', 'PriT', 'H'], ['H', 'RAH', 'RAH', 'RAH', 'PriT', 'O', 'PriT', 'H'], ['H', 'O', 'H', 'PS', 'H', 'O', 'RAH', 'H'], ['H', 'PriT', 'W', 'PriT', 'H', 'PriT', 'O', 'PriT', 'H'], ['H', 'PriT', 'S', 'RAH', 'H'], ['H', 'PriT', 'W', 'PriT', 'S', 'PriT', 'H'], ['H', 'PubT', 'PubT', 'RAH', 'W', 'RAH', 'W', 'PubT', 'PubT', 'H'], ['H', 'S', 'H', 'RAH', 'H'], ['H', 'W', 'H'], ['H', 'PriT', 'O', 'PriT', 'H', 'PriT', 'RAH', 'PriT', 'H', 'PriT', 'O', 'PriT', 'H'], ['H', 'PriT', 'RAH', 'H'], ['H', 'W', 'H'], ['H', 'PriT', 'W', 'H'], ['H', 'PriT', 'S', 'PriT', 'H', 'H'], ['H', 'SAR', 'RAH', 'RAH', 'H', 'H', 'PS', 'H', 'S', 'H', 'O', 'H', 'RAH', 'H'], ['H', 'S', 'H', 'S', 'H'], ['H'], ['H', 'PriT', 'RAH', 'PriT', 'RAH', 'PriT', 'H'], ['H', 'PriT', 'RAH', 'RAH', 'AAC', 'RAH', 'PriT', 'H'], ['H', 'O', 'CJ', 'H', 'AAC', 'H'], ['H', 'PriT', 'SAR', 'PriT', 'H'], ['H'], ['H', 'O', 'RAH', 'H'], ['H'], ['H', 'PS', 'PriT', 'RAH', 'PriT', 'RAH', 'H'], ['H', 'O', 'SAR', 'H', 'S', 'H', 'SAR', 'H'], ['H', 'PS', 'H'], ['H', 'PriT', 'S', 'CJ', 'H', 'RAH', 'H', 'CJ', 'RAH', 'CJ', 'H'], ['H', 'CJ', 'S', 'CJ', 'S', 'PriT', 'H', 'PriT', 'PS', 'CJ', 'PS', 'PS', 'W', 'PS', 'CJ', 'RAH', 'CJ', 'H'], ['H', 'RAH', 'RAH', 'PS', 'RAH', 'RAH', 'H'], ['H', 'PriT', 'S', 'PriT', 'RAH', 'PriT', 'H', 'PriT', 'S', 'PriT', 'O', 'PriT', 'H'], ['H', 'PubT', 'W', 'PubT', 'RAH', 'PubT', 'PubT', 'PubT', 'H'], ['H', 'W', 'H'], ['H'], ['H', 'PriT', 'W', 'PriT', 'W', 'PriT', 'H'], ['H', 'PriT', 'S', 'H', 'PriT', 'S', 'H', 'PriT', 'S', 'H', 'PriT', 'S', 'H'], ['H', 'O', 'H'], ['H', 'PriT', 'O', 'PriT', 'O', 'PriT', 'H', 'O', 'O', 'H', 'O', 'O', 'O', 'H'], ['H', 'PS', 'H', 'PS', 'PriT', 'RAH', 'PriT', 'H'], ['H', 'PriT', 'W', 'PriT', 'RAH', 'W', 'PriT', 'H'], ['H', 'PS', 'S', 'PS', 'RAH', 'PS', 'H', 'PriT', 'AAC', 'PriT', 'RAH', 'RAH', 'RAH', 'PriT', 'H', 'PS', 'S', 'PS', 'H'], ['H', 'PriT', 'W', 'PriT', 'RAH', 'H'], ['H', 'PriT', 'PS', 'PriT', 'H'], ['H', 'PS', 'O', 'RAH', 'H', 'PS', 'RAH', 'SAR', 'H'], ['H', 'PriT', 'O', 'PriT', 'H'], ['H'], ['RAH', 'O', 'PriT', 'H'], ['H', 'PriT', 'SAR', 'PriT', 'RAH', 'PriT', 'PriT', 'RAH', 'O', 'H', 'RAH', 'H'], ['H', 'PriT', 'RAH', 'PubT', 'H'], ['H', 'PS', 'H', 'RAH', 'H'], ['H', 'PriT', 'RAH', 'PriT', 'H'], ['H', 'PriT', 'SAR', 'PriT', 'S', 'H', 'RAH', 'PriT', 'H'], ['H', 'PriT', 'PriT', 'SAR', 'H', 'AAC', 'H'], ['H', 'W', 'H', 'RAH', 'H'], ['H', 'PriT', 'RAH', 'SAR', 'H', 'RAH', 'PriT', 'O', 'O', 'RAH', 'O', 'RAH', 'PriT', 'H', 'PriT', 'O', 'PriT', 'SAR', 'PriT', 'O', 'PriT', 'H'], ['H', 'PriT', 'S', 'PriT', 'W', 'PriT', 'RAH', 'PriT', 'H', 'PriT', 'W', 'RAH', 'W', 'PriT', 'O', 'PriT', 'H'], ['H'], ['H', 'PriT', 'O', 'O', 'PriT', 'H', 'PriT', 'PriT', 'O', 'PriT', 'RAH', 'PriT', 'O', 'H'], ['H'], ['H', 'O', 'O', 'H', 'RAH', 'H'], ['H', 'PriT', 'RAH', 'PriT'], ['H', 'PriT', 'W', 'PriT', 'RAH', 'PriT', 'H'], ['H', 'CJ', 'W', 'H', 'PriT', 'PS', 'SAR', 'PriT', 'H', 'CJ', 'O', 'H'], ['H', 'PriT', 'O', 'PriT', 'RAH', 'RAH', 'PriT', 'H', 'PriT', 'O', 'PriT', 'H'], ['H', 'PriT', 'W', 'PS', 'W', 'H', 'H'], ['H', 'O', 'H'], ['H', 'PriT', 'W', 'PriT', 'H'], ['H'], ['H', 'PriT', 'RAH', 'PriT', 'RAH', 'PriT', 'H', 'PriT', 'SAR', 'PriT', 'H'], ['H'], ['H', 'W', 'H'], ['H', 'PriT', 'PS', 'PriT', 'PriT', 'SAR', 'PriT', 'H'], ['H'], ['H', 'PriT', 'SAR', 'PriT', 'H'], ['H', 'PriT', 'W', 'W', 'H', 'S', 'RAH', 'H', 'S', 'H'], ['H', 'W', 'W', 'W', 'W', 'H'], ['H', 'PriT', 'RAH', 'PriT', 'RAH', 'PriT', 'H'], ['H', 'PriT', 'H', 'PriT', 'O', 'PriT', 'H', 'PriT', 'O', 'PriT', 'H'], ['RAH', 'PriT', 'H'], ['H'], ['H', 'O', 'O', 'RAH', 'RAH', 'RAH', 'H', 'O', 'H'], ['H', 'PriT', 'PubT', 'W', 'PubT', 'PriT', 'H'], ['H', 'O', 'H'], ['H', 'CJ', 'W', 'CJ', 'H'], ['H', 'PS', 'H', 'PriT', 'RAH', 'PriT'], ['H'], ['H'], ['H', 'O', 'H'], ['H', 'PriT', 'O', 'PriT', 'H', 'PriT', 'RAH', 'PriT', 'O', 'PriT', 'H'], ['H', 'CJ', 'RAH', 'CJ', 'H'], ['H', 'PS', 'RAH', 'H'], ['H', 'PubT', 'W', 'PubT', 'H'], ['H'], ['H'], ['H', 'CJ', 'SAR', 'CJ', 'W', 'CJ', 'RAH', 'CJ', 'H'], ['H', 'PriT', 'RAH', 'PriT', 'H'], ['H', 'PriT', 'SAR', 'PriT', 'RAH', 'PriT', 'O', 'PriT', 'H', 'O', 'H'], ['H', 'W', 'H'], ['H', 'SAR', 'H'], ['H', 'RAH', 'O', 'O', 'O', 'H'], ['H', 'PriT', 'RAH', 'PriT', 'W', 'PriT', 'RAH', 'PriT', 'RAH', 'PriT', 'H'], ['O', 'H', 'PriT'], ['H', 'W', 'H'], ['H', 'PriT', 'RAH', 'PriT', 'H'], ['H', 'PriT', 'RAH', 'PubT', 'W', 'RAH', 'W', 'PubT', 'PriT', 'RAH', 'PriT', 'H'], ['H', 'W', 'H'], ['H'], ['H', 'PriT', 'O', 'PriT', 'H', 'PriT', 'RAH', 'H', 'PriT', 'O', 'AAC', 'PriT', 'O', 'PriT', 'H'], ['H', 'PriT', 'O', 'RAH', 'O', 'H'], ['H', 'RAH', 'PriT', 'PubT', 'RAH', 'RAH', 'RAH', 'RAH', 'O', 'PubT', 'RAH', 'RAH', 'RAH', 'RAH', 'RAH', 'PriT', 'PriT', 'H'], ['H', 'CJ', 'W', 'CJ', 'H'], ['H', 'PS', 'H'], ['H', 'PriT', 'SAR', 'PriT', 'RAH', 'PriT', 'H'], ['H', 'O', 'H'], ['H', 'PriT', 'AAC', 'PriT', 'RAH', 'PriT', 'RAH', 'PriT', 'H'], ['H', 'RAH', 'H'], ['H', 'W', 'H'], ['H', 'PriT', 'PS', 'PriT', 'H', 'O', 'H'], ['H', 'RAH', 'H'], ['H', 'PS', 'S', 'CJ', 'H', 'S', 'PS', 'H'], ['H', 'CJ', 'RAH', 'CJ', 'H', 'CJ', 'O', 'PriT', 'PS', 'PriT', 'RAH', 'PriT', 'O', 'CJ', 'H'], ['H', 'PriT', 'S', 'PriT', 'W', 'PriT', 'H', 'O', 'H', 'O', 'H'], ['O', 'PriT', 'RAH', 'PriT', 'H', 'SAR', 'PriT', 'H'], ['H', 'PriT', 'RAH', 'H'], ['H', 'PriT', 'PS', 'PriT', 'H'], ['H', 'CJ', 'RAH', 'RAH', 'H'], ['H', 'PriT', 'S', 'PS', 'PubT', 'O', 'PubT', 'PS', 'PriT', 'S', 'H'], ['H', 'PriT', 'SAR', 'PriT', 'RAH', 'PriT', 'H', 'PS', 'PriT', 'SAR', 'PriT', 'S', 'PriT', 'RAH', 'PriT', 'H', 'PriT', 'O', 'PriT', 'H', 'PriT', 'RAH', 'PriT', 'H', 'O', 'PriT', 'RAH', 'PriT', 'PS', 'PriT', 'PriT', 'H', 'PriT', 'RAH', 'PriT', 'H'], ['H'], ['RAH', 'PriT', 'H', 'CJ', 'RAH', 'CJ', 'H'], ['H', 'PriT', 'RAH', 'RAH', 'PriT', 'PS', 'PriT', 'RAH', 'PriT', 'H'], ['H', 'RAH', 'SAR', 'RAH', 'H', 'PubT', 'S', 'PubT', 'H'], ['H'], ['H', 'PriT', 'RAH', 'RAH', 'H', 'PriT', 'RAH', 'RAH', 'H', 'O', 'H'], ['H', 'PS', 'H', 'RAH', 'H', 'O', 'H'], ['H', 'RAH', 'H'], ['H', 'SAR', 'H'], ['H', 'PriT', 'W', 'PriT', 'W', 'W', 'PriT', 'H', 'PriT', 'PriT', 'W', 'W', 'W', 'W', 'PriT', 'H'], ['H'], ['H', 'PriT', 'RAH', 'PriT', 'H'], ['H', 'CJ', 'RAH', 'RAH', 'AAC', 'CJ', 'H'], ['H'], ['H', 'PriT', 'W', 'PriT', 'RAH', 'PriT', 'H'], ['H', 'PS', 'O', 'PS', 'PS', 'O', 'RAH', 'H'], ['H', 'PriT', 'W', 'PriT', 'O', 'PriT', 'O', 'O', 'H', 'PriT', 'W', 'PriT', 'H', 'PriT', 'O', 'PriT', 'O', 'O', 'PriT', 'H'], ['H', 'W', 'H'], ['H'], ['H'], ['H', 'PriT', 'SAR', 'PriT', 'H'], ['O', 'PS', 'H', 'RAH', 'H'], ['H', 'S', 'RAH', 'RAH', 'RAH', 'RAH', 'H'], ['H'], ['H', 'PubT', 'W', 'PubT', 'H'], ['H'], ['H', 'SAR', 'H', 'AAC', 'PriT', 'RAH', 'PriT', 'O', 'RAH', 'O', 'H'], ['H', 'PriT', 'SAR', 'H', 'W', 'H', 'PriT', 'H'], ['H', 'PriT', 'PubT', 'PubT', 'PriT', 'H', 'PriT', 'S', 'RAH', 'PriT', 'O', 'H'], ['H', 'SAR', 'H'], ['H', 'RAH', 'RAH', 'RAH', 'RAH', 'H'], ['H'], ['H', 'PriT', 'RAH', 'RAH', 'PriT', 'H'], ['H', 'PriT', 'W', 'PriT', 'RAH', 'RAH', 'RAH', 'H', 'PriT', 'AAC', 'RAH', 'PriT', 'H'], ['H', 'SAR', 'SAR', 'H'], ['H', 'PriT', 'SAR', 'PriT', 'H'], ['H', 'PriT', 'RAH', 'PriT', 'H', 'AAC', 'PriT', 'H'], ['H', 'O', 'W', 'H'], ['H', 'PriT', 'W', 'PriT', 'H'], ['H', 'CJ', 'W', 'CJ', 'H', 'PriT', 'RAH', 'PriT', 'H'], ['H', 'CJ', 'SAR', 'CJ', 'RAH', 'CJ', 'H'], ['H', 'PriT', 'W', 'PriT', 'H'], ['H', 'PriT', 'PriT', 'PriT', 'PriT', 'PriT', 'O', 'PriT', 'H'], ['H', 'PubT', 'RAH', 'PubT', 'RAH', 'RAH', 'H', 'RAH', 'H'], ['H', 'S', 'H', 'S', 'W', 'H', 'S', 'W', 'H', 'RAH', 'H'], ['H', 'PriT', 'RAH', 'RAH', 'PriT', 'H'], ['H', 'CJ', 'RAH', 'CJ', 'RAH', 'CJ', 'H'], ['O', 'RAH', 'O', 'H'], ['H', 'RAH', 'RAH', 'RAH', 'RAH', 'H', 'H'], ['H', 'O', 'H', 'CJ', 'S', 'CJ', 'RAH', 'CJ', 'H'], ['H', 'SAR', 'H', 'O', 'H', 'PriT', 'RAH', 'PriT', 'AAC', 'PriT', 'H'], ['H', 'RAH', 'H'], ['H', 'R', 'R', 'R', 'R', 'R', 'R'], ['H', 'S', 'RAH', 'H'], ['H', 'O', 'RAH', 'H', 'RAH', 'RAH', 'H'], ['H'], ['H', 'W', 'PriT', 'W', 'H', 'PS', 'H'], ['H', 'RAH', 'W', 'SAR', 'W', 'SAR', 'H', 'PS', 'H'], ['H', 'PriT', 'W', 'PriT', 'H', 'PriT', 'SAR', 'PriT', 'H'], ['H', 'PriT', 'RAH', 'PriT', 'O', 'RAH', 'PriT', 'H'], ['H', 'W', 'H'], ['H', 'O', 'PS', 'O', 'H'], ['O', 'PriT', 'RAH', 'PriT', 'O'], ['H', 'O', 'H'], ['H', 'SAR', 'RAH', 'PriT', 'RAH', 'O', 'RAH', 'PubT', 'AAC', 'H'], ['H', 'RAH', 'RAH', 'H', 'RAH', 'H', 'PriT', 'RAH', 'H'], ['H', 'S', 'PriT', 'W', 'PriT', 'S', 'PriT', 'H', 'O', 'O', 'PriT'], ['H', 'W', 'H', 'RAH', 'H'], ['H', 'PriT', 'PriT', 'O', 'PriT', 'H'], ['H', 'PriT', 'RAH', 'PriT', 'H'], ['H', 'PS', 'H', 'RAH', 'H'], ['H', 'S', 'H', 'O', 'O', 'RAH', 'O', 'S', 'H', 'O', 'H'], ['H', 'PriT', 'RAH', 'PriT', 'H', 'PriT', 'SAR', 'PriT', 'H'], ['H', 'W', 'H', 'S', 'H'], ['H', 'PriT', 'W', 'PriT', 'H'], ['H', 'PS', 'H', 'PriT', 'RAH', 'PriT', 'RAH', 'PriT', 'RAH', 'PriT', 'H', 'PriT', 'O', 'PriT', 'RAH', 'RAH', 'PriT', 'RAH', 'RAH', 'PriT', 'O', 'O', 'PriT', 'H', 'PS', 'O', 'PS', 'H'], ['H', 'W', 'H'], ['H', 'RAH', 'RAH', 'H', 'O', 'H'], ['H'], ['H', 'PS', 'AAC', 'RAH', 'H', 'RAH', 'H'], ['H', 'W', 'H'], ['H', 'PriT', 'RAH', 'RAH', 'RAH', 'RAH', 'PriT', 'H'], ['H', 'AAC', 'H'], ['H', 'O', 'H', 'SAR', 'O', 'H', 'O', 'SAR', 'H'], ['H', 'CJ', 'RAH', 'CJ', 'S', 'CJ', 'H'], ['H', 'PubT', 'W', 'PubT', 'O', 'PriT', 'O', 'PriT', 'H'], ['H', 'W', 'H', 'PriT', 'H'], ['H', 'PriT', 'O', 'RAH', 'PriT', 'H'], ['H'], ['H', 'PriT', 'SAR', 'H'], ['H', 'RAH', 'RAH', 'RAH', 'H'], ['H', 'RAH', 'H'], ['H', 'S', 'RAH', 'H', 'S', 'H'], ['H'], ['H', 'O', 'RAH', 'H'], ['H', 'RAH', 'H', 'RAH', 'H'], ['H', 'RAH', 'H', 'SAR', 'H'], ['H', 'PriT', 'W', 'PriT', 'H'], ['H', 'AAC', 'PriT', 'H'], ['H', 'PriT', 'RAH', 'PriT', 'RAH', 'PriT', 'H'], ['H', 'PriT', 'AAC', 'PriT', 'H'], ['H', 'RAH', 'AAC', 'AAC', 'H'], ['H'], ['H', 'PriT', 'O', 'PriT', 'RAH', 'PriT', 'H', 'PriT', 'SAR', 'PriT', 'H', 'PriT', 'SAR', 'PriT', 'H', 'RAH', 'PriT', 'H', 'PriT', 'O', 'H'], ['H', 'PubT', 'O', 'PubT', 'O', 'H', 'PS', 'PriT', 'RAH', 'H'], ['H'], ['H', 'O', 'W', 'CJ', 'RAH', 'CJ', 'RAH', 'RAH', 'CJ', 'RAH', 'H'], ['H'], ['H', 'W', 'RAH', 'PubT', 'H'], ['H'], ['H'], ['H'], ['H', 'W', 'H', 'RAH', 'H'], ['H', 'SAR', 'H', 'RAH', 'H'], ['H', 'PubT', 'PubT', 'S', 'SAR', 'RAH', 'PubT', 'H'], ['H', 'PS', 'H', 'O', 'H'], ['H', 'PriT', 'RAH', 'H'], ['H', 'PriT', 'O', 'PS', 'H'], ['O', 'PubT', 'H'], ['H', 'RAH', 'RAH', 'H'], ['H'], ['H', 'PS', 'W', 'H', 'H'], ['H', 'PriT', 'RAH', 'PriT', 'RAH', 'RAH', 'PriT', 'H'], ['H', 'PS', 'RAH', 'RAH', 'RAH', 'RAH', 'PS', 'H'], ['H', 'O', 'RAH', 'O', 'O', 'H'], ['H', 'PriT', 'S', 'PriT', 'H', 'S', 'PriT', 'RAH', 'PriT', 'H', 'PriT', 'S', 'H'], ['H', 'PriT', 'RAH', 'PriT', 'H', 'PriT', 'PriT', 'H'], ['H', 'PriT', 'W', 'PriT', 'O'], ['H'], ['H', 'RAH', 'RAH', 'RAH', 'RAH', 'H', 'PS', 'H'], ['H', 'PriT', 'RAH', 'PriT', 'PriT', 'RAH', 'PriT', 'H', 'PriT', 'S', 'PriT', 'H'], ['H', 'PubT', 'PS', 'RAH', 'PS', 'RAH', 'PS', 'PubT', 'RAH', 'RAH', 'PS', 'RAH', 'RAH', 'PS', 'PubT', 'PS', 'H'], ['H', 'PriT', 'O', 'PriT', 'H', 'PriT', 'RAH', 'PriT', 'W', 'PriT', 'W', 'PriT', 'H', 'PriT', 'PS', 'PriT', 'O', 'PriT', 'RAH', 'PriT', 'O', 'PriT', 'RAH', 'PriT', 'H', 'RAH', 'PriT', 'H', 'PriT', 'SAR', 'PriT', 'H'], ['H', 'W', 'H'], ['H', 'SAR', 'AAC', 'RAH', 'O', 'H'], ['H', 'CJ', 'O', 'PubT', 'O', 'PriT', 'CJ', 'H'], ['H', 'PriT', 'W', 'PriT', 'H'], ['H', 'PriT', 'SAR', 'S', 'PriT', 'H', 'PriT', 'O', 'PriT', 'H'], ['H', 'PriT', 'O', 'PriT'], ['H', 'W', 'RAH', 'O', 'W', 'RAH', 'H'], ['H', 'RAH', 'RAH', 'O', 'W', 'RAH', 'W', 'W', 'H'], ['H', 'W', 'SAR', 'RAH', 'H'], ['H', 'H', 'PriT', 'RAH', 'PriT', 'W', 'PriT', 'H'], ['H', 'PriT', 'RAH', 'H'], ['H'], ['H', 'CJ', 'PubT', 'W', 'PubT', 'PubT', 'CJ', 'H', 'PriT', 'RAH', 'PriT', 'H'], ['H', 'O', 'AAC', 'O', 'RAH', 'H'], ['H', 'PriT', 'W', 'PriT', 'RAH', 'PriT', 'H'], ['H', 'O', 'RAH', 'H', 'W', 'RAH', 'H'], ['H', 'W', 'H'], ['H', 'PriT', 'PS', 'PriT', 'H', 'PriT', 'O', 'H', 'O', 'H'], ['H', 'PriT', 'O', 'PriT', 'PriT', 'RAH', 'PriT', 'H'], ['H', 'PubT', 'S', 'PubT', 'PS', 'H', 'O', 'RAH', 'H'], ['H', 'RAH', 'RAH', 'RAH', 'RAH', 'O', 'RAH', 'H', 'PriT', 'RAH', 'RAH', 'RAH', 'PriT', 'H'], ['H', 'RAH', 'RAH', 'RAH', 'O', 'H'], ['H', 'PriT', 'S', 'H', 'S', 'PriT', 'O', 'PriT', 'RAH', 'H', 'S', 'PriT', 'H', 'AAC', 'PriT', 'H'], ['H', 'RAH', 'H', 'W', 'H'], ['H', 'PriT', 'RAH', 'PriT', 'RAH', 'PriT', 'RAH', 'PriT', 'H', 'O', 'PriT', 'H'], ['H', 'S', 'H'], ['H', 'PriT', 'W', 'PriT', 'H'], ['H', 'CJ', 'RAH', 'CJ', 'H'], ['H', 'O', 'H'], ['H', 'PriT', 'PubT', 'W', 'RAH', 'W', 'PriT', 'H'], ['H', 'PriT', 'RAH', 'PriT', 'W', 'PriT', 'RAH', 'PriT', 'H'], ['H', 'PriT', 'W', 'PriT', 'H'], ['H', 'PriT', 'O', 'PriT', 'RAH', 'PriT', 'H', 'PriT', 'O', 'PriT', 'H', 'PriT', 'O', 'PriT', 'H'], ['H'], ['H', 'RAH', 'H', 'PS', 'RAH', 'PS', 'H', 'PS', 'H'], ['H', 'CJ', 'W', 'CJ', 'H'], ['H', 'PriT', 'SAR', 'PriT', 'H', 'PriT', 'RAH', 'PriT', 'H'], ['H', 'CJ', 'O', 'PriT', 'RAH', 'O', 'PriT', 'O', 'CJ', 'H'], ['H', 'RAH', 'H'], ['H', 'SAR', 'H'], ['H', 'CJ', 'S', 'CJ', 'S', 'PriT', 'H'], ['H', 'W', 'H', 'SAR', 'H'], ['H', 'CJ', 'O', 'CJ', 'RAH', 'CJ', 'H', 'CJ', 'RAH', 'CJ', 'H'], ['H', 'O', 'O', 'RAH', 'O', 'H'], ['H'], ['H', 'PS', 'PS', 'SAR', 'PS', 'H'], ['H', 'PS', 'H', 'RAH', 'H'], ['H', 'RAH', 'H', 'AAC', 'H'], ['H', 'PriT', 'RAH', 'PriT', 'RAH', 'PriT', 'RAH', 'PriT', 'RAH', 'PriT', 'RAH', 'PriT', 'RAH', 'PriT', 'H'], ['H'], ['H', 'PriT', 'RAH', 'PriT', 'H'], ['H', 'PriT', 'O', 'PriT', 'RAH', 'PriT', 'H', 'PriT', 'PS', 'H'], ['H'], ['H', 'PriT', 'W', 'PriT', 'H', 'PriT', 'W', 'PriT', 'H'], ['H', 'PriT', 'RAH', 'H', 'PriT', 'O', 'PriT', 'RAH', 'PriT', 'H', 'AAC', 'PriT', 'H'], ['H'], ['H', 'RAH', 'RAH', 'H', 'O', 'H'], ['H', 'PubT', 'S', 'PubT', 'H'], ['H', 'PriT', 'O', 'PriT', 'PriT', 'PubT', 'PriT', 'RAH', 'PriT', 'H'], ['H', 'SAR', 'H', 'RAH'], ['H', 'PriT', 'PubT', 'W', 'PubT', 'PriT', 'H'], ['H', 'O', 'H'], ['H', 'PriT', 'RAH', 'PriT', 'H'], ['H', 'CJ', 'SAR', 'CJ', 'RAH', 'H'], ['H'], ['H', 'PS', 'O', 'H'], ['H', 'CJ', 'RAH', 'CJ', 'RAH', 'CJ', 'H', 'PriT', 'RAH', 'H'], ['S', 'PriT', 'O', 'PriT', 'RAH', 'PriT', 'O', 'PriT', 'S', 'O', 'H'], ['H', 'PriT', 'RAH', 'PriT', 'H', 'PriT', 'RAH', 'PriT', 'H'], ['H', 'W', 'H'], ['PS'], ['H', 'PriT', 'SAR', 'PriT', 'H'], ['H', 'PubT', 'PubT', 'W', 'PubT', 'H'], ['H', 'RAH', 'RAH', 'RAH', 'H', 'O', 'H'], ['H', 'PriT', 'RAH', 'H', 'PriT', 'RAH', 'PriT', 'RAH', 'PriT', 'H', 'PriT', 'RAH', 'O', 'RAH', 'H'], ['H', 'RAH', 'RAH', 'AAC', 'H', 'RAH', 'H'], ['H', 'PriT', 'O', 'PriT', 'PS', 'PriT', 'H'], ['H', 'PriT', 'O', 'PriT', 'H', 'PriT', 'RAH', 'PriT', 'H'], ['H', 'CJ', 'W', 'CJ', 'H', 'CJ', 'S', 'PriT', 'H'], ['H', 'PriT', 'SAR', 'S', 'PriT', 'RAH', 'PriT', 'H', 'PriT', 'SAR', 'PriT', 'H', 'PriT', 'PriT', 'RAH', 'H', 'PriT', 'O', 'PriT', 'H', 'RAH', 'PriT', 'H', 'PriT', 'O', 'PriT', 'H', 'PriT', 'O', 'PriT', 'H'], ['H', 'PubT', 'RAH', 'RAH', 'RAH', 'PubT', 'H', 'RAH', 'RAH', 'H', 'PriT', 'O', 'H'], ['O', 'PriT', 'H', 'RAH', 'H'], ['H'], ['O', 'CJ', 'AAC', 'CJ', 'H'], ['H', 'PS', 'H'], ['H'], ['H', 'PriT', 'O', 'PriT', 'RAH', 'PriT', 'O'], ['H', 'O', 'H'], ['H'], ['H', 'PriT', 'PriT', 'W', 'H', 'PriT', 'O', 'PriT', 'H'], ['H', 'RAH', 'H', 'H'], ['H', 'O', 'H'], ['RAH', 'PubT', 'PS', 'PubT', 'PS', 'PriT', 'H'], ['H', 'PriT', 'PriT', 'RAH', 'RAH', 'RAH', 'RAH', 'H', 'SAR', 'H', 'O', 'H', 'AAC', 'H'], ['H', 'PriT', 'RAH', 'PriT', 'H'], ['H', 'PriT', 'RAH', 'PriT', 'RAH', 'RAH', 'PriT', 'H', 'O', 'PriT', 'H'], ['H'], ['H', 'PriT', 'RAH', 'RAH', 'H'], ['H', 'RAH', 'O', 'O', 'H', 'O', 'H'], ['H', 'PriT', 'RAH', 'PriT', 'O', 'PriT', 'H'], ['H'], ['H', 'PriT', 'S', 'PriT', 'H', 'PS', 'H'], ['H'], ['H', 'PriT', 'RAH', 'H', 'PriT', 'RAH', 'PriT', 'H'], ['H', 'PriT', 'AAC', 'PriT', 'H', 'PriT', 'AAC', 'PriT', 'H'], ['H', 'CJ', 'O', 'RAH', 'RAH', 'CJ', 'H', 'PS', 'H'], ['O', 'PS', 'H'], ['H', 'S', 'H', 'RAH', 'H', 'S', 'H', 'O', 'RAH', 'H'], ['H'], ['H', 'CJ', 'S', 'PriT', 'H', 'PriT', 'O', 'PriT', 'H'], ['H', 'PriT', 'H', 'O', 'H', 'O', 'H', 'RAH', 'H', 'RAH', 'H'], ['H', 'PriT', 'SAR', 'PriT', 'H'], ['H', 'O', 'CJ', 'H'], ['H'], ['O', 'PubT', 'RAH', 'PubT', 'H', 'RAH', 'O', 'H'], ['H', 'PriT', 'H', 'PriT', 'H'], ['H', 'PriT', 'RAH', 'RAH', 'RAH', 'RAH', 'PriT', 'H', 'PriT', 'RAH', 'PriT', 'H', 'PriT', 'O', 'PriT', 'O', 'PriT', 'RAH', 'PriT', 'H'], ['H', 'O', 'H'], ['H', 'PriT', 'RAH', 'PriT', 'RAH', 'PriT', 'H', 'RAH', 'PriT', 'H'], ['H', 'PriT', 'AAC', 'PriT', 'H', 'PriT', 'RAH', 'PriT', 'H'], ['H', 'PriT', 'AAC', 'PriT', 'PS', 'RAH', 'PriT', 'PS', 'PriT', 'H'], ['H', 'O', 'S', 'H', 'O', 'SAR', 'O', 'O', 'H'], ['H'], ['H', 'PS', 'RAH', 'H', 'PS', 'H'], ['H', 'PriT', 'O', 'PriT', 'RAH', 'PriT', 'RAH', 'PriT', 'H'], ['O', 'PriT', 'O', 'PriT', 'H'], ['H', 'RAH', 'H', 'PriT', 'RAH', 'PriT', 'H'], ['H', 'PS', 'H'], ['H', 'PriT', 'RAH', 'PriT', 'H'], ['H', 'W', 'H'], ['H'], ['H', 'SAR', 'RAH', 'RAH', 'RAH', 'H', 'PriT', 'RAH', 'H', 'PriT', 'RAH', 'PriT', 'H'], ['H', 'SAR', 'H', 'RAH', 'RAH', 'PriT', 'H', 'PriT', 'H'], ['H'], ['H', 'PriT', 'RAH', 'PriT', 'O', 'PriT', 'SAR', 'PriT', 'H'], ['H'], ['H'], ['H', 'W', 'H'], ['H', 'PriT', 'W', 'RAH', 'PriT', 'W', 'H', 'SAR', 'RAH', 'H', 'SAR', 'H'], ['H', 'PriT', 'O', 'PriT', 'RAH', 'PriT', 'H'], ['H'], ['H', 'PriT', 'W', 'PriT', 'O', 'PriT', 'H', 'PriT', 'RAH', 'PriT', 'O', 'PriT', 'H'], ['H', 'W', 'H'], ['O', 'PriT', 'H', 'SAR', 'PS', 'RAH', 'PS', 'H'], ['H', 'PubT', 'W', 'PubT', 'H'], ['H'], ['H'], ['H'], ['H', 'PriT', 'PriT', 'H', 'PriT', 'O', 'PriT', 'H'], ['H', 'PriT', 'O', 'PriT', 'RAH', 'PriT', 'RAH', 'PriT', 'H'], ['H', 'CJ', 'W', 'CJ', 'H'], ['H', 'CJ', 'RAH', 'RAH', 'RAH', 'PriT', 'H'], ['H', 'PriT', 'RAH', 'PriT', 'H'], ['H', 'PriT', 'SAR', 'PriT', 'H'], ['H'], ['H', 'CJ', 'RAH', 'CJ', 'H'], ['H', 'PS', 'RAH', 'RAH', 'H'], ['H', 'O', 'SAR', 'PriT', 'RAH', 'PriT', 'O', 'PriT', 'RAH', 'H', 'RAH', 'RAH', 'AAC', 'PriT', 'H'], ['H', 'PubT', 'RAH', 'PubT', 'RAH', 'PubT', 'H'], ['H', 'PubT', 'PriT', 'PS', 'AAC', 'PriT', 'H'], ['H', 'PriT', 'W', 'PriT', 'H', 'PriT', 'RAH', 'PriT', 'H'], ['H', 'PriT', 'PriT', 'W', 'PriT', 'PriT', 'O', 'PriT', 'H'], ['H', 'AAC', 'RAH', 'RAH', 'H', 'SAR', 'H'], ['H', 'PS', 'H', 'PriT', 'O', 'PriT', 'RAH', 'RAH', 'RAH', 'PriT', 'H'], ['H', 'W', 'H'], ['H', 'PubT', 'S', 'RAH', 'PS', 'S', 'PS', 'S', 'PubT', 'PubT', 'H'], ['H', 'PS', 'H', 'RAH', 'H'], ['H', 'PriT', 'S', 'RAH', 'RAH', 'RAH', 'RAH', 'H', 'PriT', 'S', 'PriT', 'PS', 'PubT', 'O', 'PriT', 'H', 'PriT', 'H'], ['W', 'PriT', 'H', 'W', 'PriT', 'H'], ['H', 'RAH', 'H'], ['H', 'PriT', 'S', 'H', 'SAR', 'RAH', 'H', 'S', 'H', 'O', 'H'], ['H'], ['H', 'CJ', 'PS', 'H', 'O', 'H'], ['H', 'PubT', 'S', 'PubT', 'H', 'O', 'W', 'H'], ['H', 'PriT', 'W', 'PriT', 'O', 'PriT', 'W', 'PriT', 'H', 'PriT', 'O', 'PriT', 'H'], ['H', 'PubT', 'O', 'PubT', 'H'], ['H', 'PriT', 'O', 'PriT', 'SAR', 'PriT', 'H', 'O', 'PriT', 'O', 'PriT', 'H', 'PriT', 'O', 'PriT', 'O', 'PriT', 'H'], ['H', 'W', 'PS', 'W', 'H', 'SAR', 'PriT', 'H'], ['H', 'PriT', 'RAH', 'PriT', 'H'], ['H', 'O', 'RAH', 'H', 'PS', 'H'], ['H', 'PriT', 'O', 'PriT', 'PS', 'PriT', 'O', 'PriT', 'O', 'PriT', 'H'], ['H', 'CJ', 'RAH', 'CJ', 'H'], ['H', 'PriT', 'W', 'RAH', 'W', 'H'], ['H', 'RAH', 'H'], ['H', 'W', 'H', 'SAR', 'O', 'H'], ['H', 'RAH', 'RAH', 'RAH', 'RAH', 'H', 'O', 'RAH', 'O', 'H'], ['H', 'RAH', 'RAH', 'H', 'PubT', 'S', 'PubT', 'H'], ['H', 'PriT', 'W', 'H'], ['H', 'PriT', 'RAH', 'PriT', 'RAH', 'PriT', 'H', 'PriT', 'SAR', 'PriT', 'H'], ['H', 'PriT', 'SAR', 'PriT', 'H'], ['H', 'CJ', 'W', 'CJ', 'H'], ['H'], ['H', 'PriT', 'S', 'PriT', 'RAH', 'PriT', 'RAH', 'RAH', 'PriT', 'H', 'PriT', 'S', 'PriT', 'O', 'PriT', 'S', 'PriT', 'O', 'PriT', 'H', 'PriT', 'S', 'PriT', 'H'], ['H', 'CJ', 'W', 'CJ', 'H', 'PriT', 'PS', 'PriT', 'H'], ['H'], ['H', 'PriT', 'PS', 'PriT', 'PS', 'PriT', 'RAH', 'RAH', 'PriT', 'PS', 'RAH', 'PriT', 'H'], ['H', 'PriT', 'RAH', 'PubT', 'RAH', 'PriT', 'H', 'PriT', 'AAC', 'PriT', 'H'], ['H', 'RAH', 'RAH', 'O', 'O', 'H'], ['H', 'PriT', 'O', 'PriT', 'O', 'H'], ['H', 'PriT', 'O', 'PriT', 'H'], ['H', 'O', 'O', 'H'], ['H', 'W', 'H', 'SAR', 'PriT', 'H'], ['H', 'PriT', 'S', 'PriT', 'H', 'S', 'PriT', 'SAR', 'PriT', 'H', 'PriT'], ['H', 'PriT', 'O', 'PriT', 'H'], ['H', 'PubT', 'SAR', 'RAH', 'PubT', 'W', 'PubT', 'RAH', 'PubT', 'SAR', 'PubT', 'H'], ['H', 'W', 'RAH', 'W', 'W', 'H', 'PS', 'H'], ['H', 'CJ', 'W', 'CJ', 'H'], ['H', 'PriT', 'W', 'PriT', 'H'], ['H', 'PriT', 'O', 'PriT', 'H'], ['H', 'PriT', 'PriT', 'H', 'PubT', 'O', 'PubT', 'H', 'O', 'H', 'O', 'H'], ['H', 'S', 'H', 'W', 'W', 'RAH', 'H'], ['H', 'PriT', 'W', 'PriT', 'O', 'PriT', 'H'], ['H', 'PS', 'RAH', 'H'], ['H', 'PriT', 'W', 'H', 'PriT', 'RAH', 'H', 'RAH', 'H'], ['H', 'PriT', 'RAH', 'RAH', 'PriT', 'H', 'O', 'PriT', 'H', 'PriT', 'O', 'PriT', 'RAH', 'PriT', 'H'], ['H', 'CJ', 'S', 'PriT', 'H'], ['H', 'W', 'H'], ['H'], ['H', 'PriT', 'W', 'PriT', 'H'], ['H', 'RAH', 'H'], ['H', 'PriT', 'S', 'PriT', 'W', 'PriT', 'SAR', 'PriT', 'H'], ['H'], ['H', 'PS', 'S', 'PubT', 'RAH', 'PubT', 'H', 'PS', 'S', 'PS', 'H'], ['H', 'PriT', 'RAH', 'PriT', 'H'], ['H', 'PriT', 'S', 'PriT', 'PS', 'RAH', 'RAH', 'PriT', 'PriT', 'W', 'PriT', 'H', 'PriT', 'S', 'PriT', 'O', 'PriT', 'H', 'PriT', 'PriT', 'H', 'SAR', 'PriT', 'H', 'O', 'H', 'H'], ['H'], ['H', 'W', 'H'], ['H', 'CJ', 'W', 'H', 'O', 'H'], ['H'], ['H', 'PS', 'S', 'H', 'PS', 'S', 'PS', 'PriT', 'O', 'PriT', 'O', 'PriT', 'H'], ['H', 'PriT', 'O', 'PriT', 'H'], ['H'], ['H', 'PriT', 'W', 'PriT', 'RAH', 'PriT', 'H'], ['H', 'O', 'H', 'RAH', 'AAC', 'O', 'H', 'S', 'O', 'H', 'H'], ['H', 'W', 'PriT', 'H', 'H'], ['H', 'PriT', 'O', 'PriT', 'H', 'PriT', 'S', 'H'], ['H', 'CJ', 'RAH', 'CJ', 'H'], ['H'], ['H', 'PriT', 'W', 'PriT', 'S', 'PriT', 'PS', 'H'], ['H', 'RAH', 'H'], ['H', 'O', 'H'], ['H', 'PriT', 'RAH', 'W', 'RAH', 'W', 'RAH', 'PriT', 'H'], ['H'], ['H', 'PriT', 'O', 'PriT', 'H'], ['H', 'W', 'H'], ['H', 'CJ', 'W', 'CJ', 'H'], ['H', 'PubT', 'PubT', 'S', 'S', 'PS', 'S', 'AAC', 'S', 'PriT', 'O', 'PriT', 'H'], ['H', 'W', 'H'], ['H', 'PriT', 'S', 'CJ', 'H', 'PriT', 'S', 'RAH', 'PriT', 'H'], ['H', 'PriT', 'W', 'PriT', 'S', 'PriT', 'H'], ['H', 'PriT', 'S', 'PS', 'PriT', 'RAH', 'PriT', 'RAH', 'PriT', 'H'], ['H', 'PriT', 'W', 'PriT', 'RAH', 'PriT', 'H'], ['H', 'CJ', 'W', 'CJ', 'H'], ['H', 'CJ', 'W', 'CJ', 'O', 'PriT', 'PS', 'PriT', 'H'], ['H'], ['H', 'PS', 'RAH', 'RAH', 'H'], ['H', 'PubT', 'PubT', 'RAH', 'PubT', 'O'], ['H', 'PriT', 'W', 'PriT', 'H'], ['O', 'PriT', 'O', 'RAH', 'PriT', 'RAH', 'PriT', 'O', 'H', 'PriT', 'O', 'PriT', 'O'], ['H', 'W', 'H'], ['H', 'PS', 'S', 'PS', 'O', 'H', 'S', 'PS', 'H'], ['H', 'CJ', 'RAH', 'CJ', 'H'], ['H', 'PriT', 'RAH', 'CJ', 'W', 'CJ', 'W', 'CJ', 'H', 'CJ', 'RAH', 'CJ', 'H'], ['H', 'CJ', 'RAH', 'CJ', 'H', 'CJ', 'RAH', 'CJ', 'H'], ['H', 'PriT', 'S', 'CJ', 'O', 'CJ', 'H', 'CJ', 'O', 'CJ', 'H'], ['H', 'PriT', 'H', 'PriT', 'H'], ['H', 'CJ', 'SAR', 'CJ', 'H'], ['H', 'PriT', 'RAH', 'PriT', 'H'], ['H'], ['H'], ['H', 'RAH', 'H', 'RAH', 'H'], ['H', 'PriT', 'RAH', 'PriT', 'H', 'PriT', 'RAH', 'PriT', 'RAH', 'PriT', 'AAC', 'RAH', 'RAH', 'PriT', 'H'], ['H'], ['H', 'O', 'H'], ['H', 'PS', 'RAH', 'PS', 'PriT', 'RAH', 'PriT', 'AAC', 'PriT', 'H'], ['H'], ['H', 'PS', 'H', 'CJ', 'O', 'PriT', 'H', 'O', 'H', 'PS', 'RAH', 'PS', 'H', 'O', 'H'], ['H', 'S', 'H', 'S', 'H'], ['H', 'CJ', 'O', 'CJ', 'O', 'CJ', 'RAH', 'RAH', 'RAH', 'RAH', 'CJ', 'H'], ['H', 'W', 'H'], ['H', 'PriT', 'O', 'PriT', 'H'], ['H', 'CJ', 'SAR', 'O', 'RAH', 'CJ', 'H', 'S', 'H', 'PriT', 'SAR', 'PriT', 'O', 'CJ', 'H', 'CJ', 'O', 'PriT', 'RAH', 'PriT', 'O', 'H'], ['H', 'RAH', 'H', 'PriT', 'RAH', 'RAH', 'PriT', 'H'], ['H', 'PubT', 'RAH', 'CJ', 'H', 'PubT', 'W', 'PubT', 'H'], ['H'], ['H'], ['H', 'PriT', 'H', 'PriT', 'H', 'PriT', 'H'], ['H', 'PubT', 'RAH', 'RAH', 'W', 'PubT', 'H'], ['H', 'PS', 'H'], ['H', 'PubT', 'S', 'O', 'PriT', 'H', 'SAR', 'PriT', 'W', 'H'], ['H'], ['O', 'PriT', 'PriT', 'PS', 'PriT', 'O', 'H', 'PriT', 'PriT', 'RAH', 'PriT', 'H'], ['H', 'PriT', 'RAH', 'PriT', 'H', 'PriT', 'RAH', 'PriT', 'RAH', 'PriT', 'H'], ['H', 'PubT', 'PubT', 'PS', 'PubT', 'RAH', 'H'], ['H', 'PriT', 'RAH', 'PriT', 'H'], ['H', 'PriT', 'O', 'PriT', 'H', 'PriT', 'RAH', 'PriT', 'H'], ['H', 'CJ', 'W', 'CJ', 'H'], ['H', 'RAH', 'H', 'PubT', 'PS', 'O', 'PS', 'PubT', 'PriT', 'H'], ['H', 'PubT', 'RAH', 'W', 'RAH', 'RAH', 'W', 'RAH', 'PS', 'H'], ['H', 'SAR', 'CJ', 'W', 'RAH', 'W', 'CJ', 'H', 'PriT', 'SAR', 'PriT', 'RAH', 'PriT', 'H'], ['H', 'PriT', 'RAH', 'PriT', 'H'], ['H', 'CJ', 'W', 'CJ', 'H'], ['H', 'PriT', 'RAH', 'RAH', 'PriT', 'H'], ['H', 'PriT', 'RAH', 'PriT', 'AAC', 'PriT', 'RAH', 'PriT', 'RAH', 'PriT', 'H'], ['H', 'CJ', 'RAH', 'CJ', 'H'], ['H', 'PriT', 'O', 'PriT', 'H'], ['H', 'CJ', 'O', 'PriT', 'PS', 'RAH', 'PriT', 'O', 'PriT', 'O', 'CJ', 'H'], ['W', 'H', 'PS', 'H'], ['H', 'PS', 'RAH', 'PS', 'H', 'RAH', 'H'], ['H', 'PriT', 'S', 'PriT', 'RAH', 'PriT', 'PriT', 'RAH', 'PriT', 'H', 'PriT', 'S', 'PriT', 'H'], ['H', 'PriT', 'RAH', 'PriT', 'H'], ['H', 'W', 'CJ', 'H', 'CJ', 'S', 'PriT', 'H', 'AAC', 'RAH', 'PriT', 'H'], ['H', 'PubT', 'PubT', 'W', 'PubT', 'PubT', 'H', 'SAR', 'H'], ['H', 'PriT', 'W', 'PriT', 'H'], ['H', 'O', 'H', 'RAH', 'RAH', 'RAH', 'RAH', 'RAH', 'H'], ['H', 'PriT', 'RAH', 'PriT', 'H'], ['H', 'W', 'W', 'RAH', 'W', 'H'], ['H', 'PriT', 'O', 'PriT', 'H', 'PriT', 'RAH', 'PriT', 'H', 'PriT', 'SAR', 'PriT', 'H', 'PriT', 'RAH', 'PriT', 'H'], ['H', 'PS', 'H', 'PS', 'H'], ['H', 'PriT', 'RAH', 'PriT', 'SAR', 'PriT', 'RAH', 'PriT', 'H'], ['O'], ['H'], ['H', 'PS', 'RAH', 'PS', 'H'], ['H', 'CJ', 'RAH', 'RAH', 'RAH', 'RAH', 'CJ', 'H'], ['H', 'PriT', 'O', 'RAH', 'RAH', 'PriT', 'H', 'PS', 'H'], ['H', 'PS', 'H', 'RAH', 'H'], ['H', 'PriT', 'SAR', 'PriT', 'H'], ['H'], ['H', 'SAR', 'H'], ['H'], ['H', 'CJ', 'SAR', 'CJ', 'H', 'CJ', 'RAH', 'CJ', 'H', 'PriT', 'PS', 'PriT', 'H'], ['H', 'CJ', 'RAH', 'RAH', 'CJ', 'O', 'CJ', 'O', 'CJ', 'H'], ['H', 'PriT', 'RAH', 'PriT', 'AAC', 'H'], ['H', 'RAH', 'H'], ['H', 'CJ', 'RAH', 'CJ', 'H'], ['H', 'O', 'S', 'H', 'O', 'O', 'RAH', 'H', 'O', 'H'], ['SAR', 'CJ', 'H', 'CJ', 'W', 'CJ', 'H'], ['H', 'W', 'H'], ['H', 'PriT', 'H', 'O', 'O', 'H'], ['H', 'SAR', 'PriT', 'H'], ['H', 'CJ', 'W', 'CJ', 'O', 'CJ', 'H'], ['H', 'CJ', 'W', 'RAH', 'W', 'CJ', 'H', 'CJ', 'S', 'PriT', 'H'], ['H', 'PS', 'H', 'PriT', 'RAH', 'PriT', 'RAH', 'PriT', 'H'], ['H', 'PriT', 'RAH', 'PriT', 'O', 'PriT', 'H'], ['H', 'CJ', 'W', 'CJ', 'H'], ['H'], ['H', 'PriT', 'O', 'PriT', 'H'], ['H', 'W', 'RAH', 'W', 'H'], ['H', 'RAH', 'H'], ['H', 'PriT', 'CJ', 'RAH', 'CJ', 'RAH', 'CJ', 'H', 'CJ', 'PriT', 'H', 'PriT', 'AAC', 'PriT', 'H'], ['H', 'CJ', 'W', 'CJ', 'O', 'CJ', 'SAR', 'CJ', 'O', 'CJ', 'H'], ['O', 'PubT', 'S', 'PubT', 'PubT', 'H'], ['H', 'CJ', 'RAH', 'CJ', 'H', 'CJ', 'O', 'CJ', 'H'], ['O', 'PS', 'O', 'PriT', 'H'], ['H'], ['H', 'CJ', 'W', 'CJ', 'RAH', 'CJ', 'H', 'CJ', 'SAR', 'CJ', 'H'], ['H', 'CJ', 'O', 'PriT', 'H'], ['H', 'PriT', 'RAH', 'H', 'PriT', 'PriT', 'RAH', 'RAH', 'H', 'H', 'SAR', 'PriT', 'H'], ['H', 'CJ', 'O', 'CJ', 'H'], ['H', 'W', 'H'], ['H'], ['H', 'PriT', 'RAH', 'PriT', 'H'], ['H', 'PubT', 'O', 'PubT', 'H', 'PS', 'H'], ['H', 'PriT', 'O', 'PriT', 'O', 'PriT', 'O', 'H', 'PriT', 'PS', 'PriT', 'O', 'CJ', 'H'], ['H', 'PriT', 'O', 'PriT', 'RAH', 'PriT', 'S', 'PriT', 'H'], ['H', 'PriT', 'PubT', 'S', 'PubT', 'PriT', 'H'], ['H', 'O', 'PubT', 'O', 'PriT', 'H'], ['H'], ['H', 'RAH', 'CJ', 'W', 'CJ', 'PriT', 'PriT', 'H'], ['H', 'PriT', 'W', 'PriT', 'H', 'PriT', 'SAR', 'PriT', 'RAH', 'PriT', 'H'], ['H', 'PriT', 'RAH', 'PriT', 'RAH', 'PriT', 'H', 'PriT', 'RAH', 'PriT', 'H', 'CJ', 'RAH', 'CJ', 'H'], ['H', 'CJ', 'W', 'CJ', 'H'], ['H'], ['H', 'CJ', 'RAH', 'CJ', 'H', 'CJ', 'RAH', 'RAH', 'H'], ['H', 'PriT', 'O', 'PriT', 'RAH', 'PS', 'RAH', 'PS', 'PriT', 'H', 'PS', 'H'], ['H', 'CJ', 'O', 'RAH', 'CJ', 'H'], ['H', 'CJ', 'RAH', 'CJ', 'RAH', 'CJ', 'H'], ['H', 'PriT', 'S', 'CJ', 'RAH', 'CJ', 'H', 'CJ', 'S', 'PriT', 'H'], ['H', 'PriT', 'S', 'PriT', 'O', 'PriT', 'S', 'PriT', 'RAH', 'PriT', 'H', 'PriT', 'S', 'PriT', 'H'], ['H', 'CJ', 'RAH', 'CJ', 'H'], ['H', 'PS', 'RAH', 'H', 'PriT', 'AAC', 'PriT', 'H'], ['H', 'CJ', 'SAR', 'CJ', 'RAH', 'CJ', 'H', 'CJ', 'PS', 'O', 'PS', 'PubT', 'CJ', 'H'], ['H', 'CJ', 'SAR', 'CJ', 'RAH', 'RAH', 'CJ', 'H'], ['H', 'CJ', 'W', 'CJ', 'H'], ['H', 'CJ', 'W', 'CJ', 'O', 'CJ', 'H'], ['H', 'CJ', 'W', 'CJ', 'H'], ['H', 'RAH', 'RAH', 'RAH', 'RAH', 'RAH', 'H'], ['H', 'CJ', 'RAH', 'W', 'RAH', 'H'], ['H', 'O', 'RAH', 'RAH', 'SAR', 'RAH', 'O', 'H'], ['H', 'CJ', 'W', 'CJ', 'H', 'RAH', 'CJ', 'H'], ['H', 'PriT', 'O', 'PriT', 'RAH', 'PriT', 'H'], ['H', 'PriT', 'RAH', 'PriT', 'PS', 'PriT', 'RAH', 'PriT', 'RAH', 'PriT', 'H', 'PriT', 'RAH', 'PriT', 'RAH', 'PriT', 'H'], ['H', 'RAH', 'RAH', 'H'], ['H', 'PriT', 'RAH', 'PriT', 'H'], ['H', 'PriT', 'S', 'CJ', 'RAH', 'CJ', 'H', 'CJ', 'S', 'PriT', 'O', 'CJ', 'W', 'CJ', 'AAC', 'CJ', 'H'], ['H', 'PriT', 'RAH', 'PriT', 'RAH', 'PriT', 'RAH', 'RAH', 'H'], ['H'], ['H', 'CJ', 'W', 'CJ', 'H', 'RAH', 'RAH', 'PriT', 'H', 'RAH', 'PriT', 'H'], ['H', 'W', 'H'], ['RAH', 'CJ', 'W', 'CJ', 'PS', 'PubT', 'PS', 'PriT', 'H'], ['H'], ['H'], ['H', 'PriT', 'RAH', 'PriT', 'RAH', 'PriT', 'H'], ['H', 'PriT', 'W', 'CJ', 'RAH', 'CJ', 'H', 'CJ', 'RAH', 'CJ', 'H'], ['O', 'PriT', 'O', 'CJ', 'W', 'S', 'CJ', 'H', 'CJ', 'O', 'O'], ['H', 'RAH', 'RAH', 'H'], ['H'], ['H', 'CJ', 'O', 'PriT', 'H'], ['H', 'CJ', 'S', 'CJ', 'H', 'PriT', 'SAR', 'PriT', 'RAH', 'PriT', 'H'], ['H', 'PriT', 'RAH', 'PriT', 'H', 'CJ', 'W', 'CJ', 'H'], ['H', 'CJ', 'O', 'CJ', 'RAH', 'CJ', 'H'], ['H'], ['H', 'PriT', 'RAH', 'PriT', 'RAH', 'PriT', 'H'], ['H', 'CJ', 'W', 'PriT', 'O', 'PriT', 'H'], ['H', 'CJ', 'W', 'CJ', 'RAH', 'CJ', 'W', 'CJ', 'H', 'CJ', 'RAH', 'CJ', 'H'], ['H'], ['H'], ['H', 'PriT', 'W', 'PriT', 'H'], ['H', 'PriT', 'O', 'PriT', 'SAR', 'PriT', 'RAH', 'CJ', 'H'], ['H', 'PriT', 'RAH', 'PriT', 'O', 'PriT', 'H'], ['H', 'CJ', 'RAH', 'CJ', 'H'], ['H', 'PriT', 'PubT', 'W', 'PubT', 'PriT', 'H'], ['H', 'CJ', 'RAH', 'CJ', 'H', 'S', 'PriT', 'H', 'PriT', 'RAH', 'PriT', 'H'], ['H', 'W', 'H'], ['H', 'CJ', 'W', 'CJ', 'O', 'H'], ['H'], ['H', 'PriT', 'S', 'CJ', 'PS', 'W', 'RAH', 'W', 'PubT', 'CJ', 'H'], ['H', 'CJ', 'W', 'PriT', 'CJ', 'H', 'CJ', 'RAH', 'CJ', 'PriT', 'H'], ['H', 'CJ', 'W', 'RAH', 'H'], ['H'], ['H', 'PS', 'S', 'RAH', 'AAC', 'AAC', 'S', 'PubT', 'RAH', 'RAH', 'H'], ['H', 'PriT', 'W', 'PriT', 'W', 'PriT', 'W', 'PriT', 'W', 'PriT', 'RAH', 'PriT', 'H', 'PriT', 'O', 'CJ', 'H', 'PriT', 'RAH', 'CJ', 'H', 'CJ', 'O', 'PriT', 'H', 'PriT', 'S', 'PriT', 'H', 'S', 'PriT', 'H', 'CJ', 'RAH', 'CJ', 'H', 'PriT', 'AAC', 'PriT', 'H'], ['H', 'CJ', 'W', 'CJ', 'H'], ['H'], ['H', 'PriT', 'W', 'RAH', 'W', 'RAH', 'H', 'RAH', 'O', 'H'], ['H', 'CJ', 'W', 'O', 'CJ', 'O', 'CJ', 'H', 'PriT', 'O', 'PriT', 'H'], ['H', 'CJ', 'W', 'CJ', 'H', 'PriT', 'O', 'PriT', 'SAR', 'PriT', 'PS', 'PriT', 'O', 'CJ', 'H'], ['H', 'RAH', 'CJ', 'H', 'CJ', 'W', 'CJ', 'H'], ['H', 'PS', 'PriT', 'H'], ['H', 'CJ', 'RAH', 'CJ', 'H'], ['H'], ['H', 'PriT', 'RAH', 'PriT', 'H'], ['H', 'PriT', 'W', 'PriT', 'H'], ['H', 'CJ', 'W', 'CJ', 'O', 'CJ', 'H', 'CJ', 'AAC', 'CJ', 'O', 'CJ', 'H', 'O', 'CJ', 'H'], ['H', 'RAH', 'H', 'PriT', 'RAH', 'PriT', 'H'], ['H', 'PriT', 'PS', 'PubT', 'W', 'PubT', 'CJ', 'H', 'H'], ['H', 'PubT', 'PubT', 'W', 'PubT', 'H'], ['H'], ['H', 'CJ', 'PriT', 'RAH', 'PriT', 'SAR', 'PriT', 'H'], ['H', 'PS', 'H'], ['H', 'CJ', 'RAH', 'CJ', 'RAH', 'CJ', 'RAH', 'CJ', 'H', 'CJ', 'RAH', 'CJ', 'H', 'CJ', 'RAH', 'RAH', 'H'], ['H', 'PriT', 'W', 'H', 'PS', 'H'], ['H', 'PriT', 'O', 'PriT', 'RAH', 'PriT', 'PS', 'PriT', 'H'], ['H', 'PS', 'RAH', 'RAH', 'H'], ['H'], ['H', 'CJ', 'O', 'CJ', 'H'], ['PS', 'PubT', 'PS', 'PubT', 'H'], ['PubT', 'PriT', 'H', 'PriT', 'O', 'PriT', 'RAH', 'PriT', 'H'], ['H'], ['H', 'O', 'PriT', 'RAH', 'RAH', 'PriT', 'O', 'PriT', 'H', 'PriT', 'O', 'H'], ['H', 'CJ', 'O', 'CJ', 'H', 'CJ', 'RAH', 'CJ', 'H', 'O', 'PriT', 'H'], ['H', 'H'], ['H', 'CJ', 'O', 'CJ', 'O', 'CJ', 'H', 'PriT', 'O', 'PriT', 'H'], ['H', 'CJ', 'W', 'CJ', 'H'], ['H', 'PriT', 'W', 'PriT', 'CJ', 'H', 'O', 'CJ'], ['H', 'CJ', 'RAH', 'CJ', 'RAH', 'CJ', 'H'], ['H', 'PriT', 'PS', 'PS', 'PriT', 'RAH', 'PriT', 'H'], ['H', 'PriT', 'PS', 'PriT', 'H', 'PriT', 'O', 'CJ', 'H'], ['H', 'AAC', 'CJ', 'H'], ['H', 'PriT', 'RAH', 'PriT', 'H', 'PS', 'H'], ['H'], ['H', 'PS', 'H', 'RAH', 'H', 'RAH', 'H'], ['H', 'PS', 'H', 'PriT', 'RAH', 'RAH', 'RAH', 'PriT', 'H', 'PriT', 'RAH', 'RAH', 'PriT', 'H', 'RAH', 'H'], ['H'], ['H', 'PriT', 'O', 'PriT', 'H'], ['H', 'RAH', 'H'], ['H', 'CJ', 'O', 'CJ', 'O', 'CJ', 'RAH', 'CJ', 'H', 'H'], ['H', 'PriT', 'O', 'PriT', 'H'], ['H', 'W', 'RAH', 'RAH', 'W', 'H', 'O', 'SAR', 'H'], ['H', 'SAR', 'CJ', 'O', 'CJ', 'H'], ['O', 'H'], ['H', 'W', 'H'], ['H'], ['H', 'CJ', 'W', 'CJ', 'H', 'PS', 'H', 'RAH', 'CJ', 'H'], ['H', 'RAH', 'H', 'PriT', 'O', 'PriT', 'H'], ['PubT', 'PS', 'H', 'RAH', 'H'], ['H'], ['H', 'CJ', 'W', 'W', 'W', 'W', 'CJ', 'W', 'CJ', 'W', 'CJ', 'W', 'CJ', 'W', 'CJ', 'W', 'CJ', 'W', 'CJ', 'W', 'CJ', 'W', 'CJ', 'W', 'H'], ['O', 'PriT', 'RAH', 'RAH', 'H'], ['H', 'SAR', 'PubT', 'H'], ['H', 'S', 'H', 'CJ', 'H', 'RAH', 'SAR', 'CJ'], ['H'], ['H', 'W', 'H', 'PS', 'H'], ['H', 'O', 'H', 'O', 'H', 'O', 'O', 'H'], ['H', 'O', 'RAH', 'H'], ['H', 'CJ', 'SAR', 'CJ', 'H', 'CJ', 'SAR', 'CJ', 'H'], ['H', 'CJ', 'RAH', 'CJ', 'H'], ['H', 'CJ', 'RAH', 'W', 'CJ', 'H'], ['H'], ['H', 'CJ', 'W', 'CJ', 'O', 'CJ', 'RAH', 'CJ', 'H'], ['H', 'CJ', 'O', 'O', 'CJ', 'H'], ['H', 'CJ', 'O', 'PriT', 'SAR', 'PriT', 'CJ', 'W', 'CJ', 'H', 'PriT', 'RAH', 'PriT', 'H'], ['H', 'O', 'H'], ['H', 'PriT', 'H', 'CJ', 'RAH', 'CJ', 'W', 'RAH', 'RAH', 'RAH', 'W', 'CJ', 'H', 'RAH', 'RAH', 'CJ', 'H'], ['H', 'PS', 'H', 'PriT', 'O', 'PriT', 'PriT', 'RAH', 'H'], ['H'], ['H', 'W', 'H'], ['H'], ['H', 'CJ', 'O', 'CJ', 'RAH', 'CJ', 'H'], ['H'], ['H', 'RAH', 'AAC', 'H'], ['H', 'PriT', 'O', 'PriT', 'H'], ['H', 'PriT', 'O', 'RAH', 'RAH', 'PriT', 'H', 'O', 'CJ', 'H'], ['H', 'CJ', 'W', 'CJ', 'H'], ['H', 'CJ', 'PS', 'CJ', 'H'], ['H', 'RAH', 'PubT', 'PubT', 'CJ', 'H'], ['H', 'PriT', 'RAH', 'PriT', 'H'], ['H', 'CJ', 'SAR', 'CJ', 'H', 'CJ', 'PriT', 'RAH', 'PriT', 'H'], ['H', 'CJ', 'PubT', 'W', 'SAR', 'PubT', 'CJ', 'H'], ['H', 'PriT', 'O', 'PS', 'RAH', 'PS', 'O', 'PriT', 'RAH', 'PriT', 'O', 'PriT', 'H'], ['H', 'RAH', 'H'], ['H', 'CJ', 'W', 'CJ', 'SAR', 'CJ', 'H'], ['H', 'RAH', 'H', 'O', 'H'], ['H', 'RAH', 'RAH', 'O', 'H'], ['H', 'SAR', 'H', 'RAH', 'H'], ['H', 'O', 'RAH', 'H', 'PS', 'H'], ['H', 'CJ', 'RAH', 'RAH', 'CJ', 'H'], ['H', 'CJ', 'O', 'PriT', 'H', 'AAC', 'H', 'RAH', 'RAH', 'H', 'CJ', 'RAH', 'H'], ['H', 'PriT', 'PS', 'PriT', 'S', 'CJ', 'SAR', 'CJ', 'H', 'CJ', 'W', 'CJ', 'S', 'PriT', 'H', 'PriT', 'O', 'CJ', 'H', 'PriT', 'RAH', 'PriT', 'H'], ['H'], ['H', 'PubT', 'W', 'PubT', 'PubT', 'O', 'PubT', 'RAH', 'PubT', 'H'], ['H', 'PriT', 'RAH', 'PriT', 'H', 'SAR', 'PriT', 'H'], ['H', 'PS', 'RAH', 'H', 'RAH', 'PriT', 'H', 'RAH', 'H'], ['H', 'W', 'H'], ['H', 'O', 'PriT', 'H'], ['H', 'W', 'H'], ['H', 'RAH', 'PriT', 'RAH', 'H'], ['H', 'PubT', 'PubT', 'S', 'PubT', 'PubT', 'H'], ['H', 'CJ', 'SAR', 'PS', 'RAH', 'CJ', 'H', 'CJ', 'RAH', 'CJ', 'H', 'O', 'H', 'O', 'H'], ['H', 'W', 'H'], ['H', 'RAH', 'H', 'O', 'O', 'RAH', 'H'], ['H', 'W', 'H'], ['H', 'RAH', 'H'], ['H'], ['H', 'CJ', 'RAH', 'PriT', 'RAH', 'RAH', 'PriT', 'O', 'CJ', 'H'], ['H', 'CJ', 'W', 'CJ', 'RAH', 'CJ', 'H'], ['H', 'O', 'RAH', 'RAH', 'H', 'PS', 'H'], ['H'], ['H', 'CJ', 'W', 'RAH', 'W', 'H'], ['H', 'W', 'H', 'RAH', 'W', 'S', 'W', 'PriT', 'H'], ['H', 'PriT', 'O', 'CJ', 'RAH', 'CJ', 'H'], ['H', 'PS', 'PubT', 'PubT', 'S', 'S', 'S', 'S', 'PubT', 'PubT', 'O', 'CJ', 'H', 'CJ', 'O', 'CJ', 'H', 'CJ', 'RAH', 'PriT', 'H'], ['H', 'PriT', 'W', 'RAH', 'W', 'PriT', 'W', 'PriT', 'H'], ['H', 'PS', 'RAH', 'PS', 'PS', 'PS', 'PubT', 'H', 'CJ', 'RAH', 'CJ', 'H', 'PS', 'H'], ['H', 'SAR', 'O', 'H'], ['H'], ['H', 'CJ', 'O', 'PriT', 'O', 'CJ', 'H', 'CJ', 'RAH', 'CJ', 'H', 'CJ', 'O', 'CJ', 'PS', 'CJ', 'H'], ['H', 'PubT', 'PubT', 'PubT', 'S', 'PubT', 'PubT', 'H'], ['H'], ['H', 'PriT', 'S', 'PriT', 'H'], ['H', 'CJ', 'O', 'CJ', 'H'], ['H', 'RAH', 'H', 'O', 'H'], ['H', 'CJ', 'W', 'CJ', 'H'], ['H', 'PriT', 'O', 'H'], ['H'], ['H', 'PriT', 'S', 'PriT', 'H'], ['H', 'PriT', 'O', 'CJ', 'O', 'CJ', 'O', 'RAH', 'H', 'O', 'H'], ['H', 'PriT', 'RAH', 'PriT', 'H', 'O', 'H'], ['H', 'PriT', 'RAH', 'PriT', 'H'], ['H', 'RAH', 'AAC', 'RAH', 'H', 'PS', 'H'], ['H'], ['H', 'RAH', 'H', 'RAH', 'H'], ['H', 'CJ', 'W', 'CJ', 'H'], ['H', 'CJ', 'O', 'CJ', 'H', 'O', 'H'], ['H', 'PS', 'H'], ['H', 'PubT', 'W', 'RAH', 'PubT', 'H'], ['H', 'CJ', 'RAH', 'CJ', 'H'], ['H', 'RAH', 'CJ', 'H'], ['H', 'PriT', 'O', 'PriT', 'H', 'PriT', 'RAH', 'PriT', 'S', 'PriT', 'H', 'PS', 'H'], ['H', 'CJ', 'RAH', 'CJ', 'H'], ['H', 'PriT', 'RAH', 'PriT', 'CJ', 'RAH', 'CJ', 'H', 'CJ', 'PriT', 'H'], ['H', 'O', 'H'], ['H', 'CJ', 'RAH', 'CJ', 'H', 'PriT', 'RAH', 'PriT', 'H', 'PriT', 'SAR', 'CJ', 'H', 'CJ', 'SAR', 'PriT', 'H', 'RAH', 'PriT', 'H'], ['H', 'CJ', 'SAR', 'CJ', 'H'], ['H', 'CJ', 'W', 'CJ', 'H', 'O', 'PriT', 'H'], ['H', 'W', 'H'], ['H', 'CJ', 'O', 'CJ', 'W', 'CJ', 'H'], ['H', 'CJ', 'RAH', 'RAH', 'CJ', 'RAH', 'H'], ['H', 'CJ', 'W', 'CJ', 'H', 'PriT', 'RAH', 'PriT', 'H'], ['H', 'O', 'H', 'RAH', 'H'], ['H', 'CJ', 'SAR', 'CJ', 'RAH', 'CJ', 'RAH', 'CJ', 'H', 'PriT', 'RAH', 'AAC', 'PriT', 'H'], ['H', 'PriT', 'PS', 'PriT', 'H', 'PriT', 'RAH', 'PriT', 'H'], ['H', 'O', 'H', 'O', 'H'], ['H', 'CJ', 'RAH', 'CJ', 'O', 'PriT', 'RAH', 'PriT', 'RAH', 'CJ', 'H'], ['H'], ['H', 'CJ', 'W', 'CJ', 'H'], ['H', 'CJ', 'O', 'H'], ['H', 'RAH', 'H', 'PriT', 'PS', 'H'], ['H', 'SAR', 'H', 'SAR', 'H', 'O', 'H'], ['H', 'RAH', 'H', 'CJ', 'PriT', 'O', 'W', 'CJ', 'H'], ['H', 'PriT', 'RAH', 'PriT', 'H', 'PriT', 'RAH', 'PriT', 'H'], ['H', 'CJ', 'RAH', 'CJ', 'H', 'PriT', 'S', 'CJ', 'O', 'PriT', 'H'], ['H', 'PriT', 'S', 'PriT', 'RAH', 'PriT', 'H'], ['H', 'PS', 'RAH', 'H', 'PS', 'H', 'RAH', 'H', 'SAR', 'H', 'PS', 'H'], ['H', 'PS', 'H', 'CJ', 'O', 'CJ', 'RAH', 'CJ', 'H'], ['H', 'PS', 'RAH', 'H', 'CJ', 'O', 'CJ', 'H'], ['H', 'RAH', 'O', 'O', 'H'], ['H', 'PriT', 'O', 'PriT', 'RAH', 'PriT', 'H', 'PriT', 'O', 'PriT', 'H'], ['H', 'PriT', 'RAH', 'CJ', 'H', 'PS', 'S', 'PS', 'S', 'PS', 'H', 'PriT', 'H'], ['H', 'PubT', 'RAH', 'PubT', 'RAH', 'H'], ['H', 'CJ', 'RAH', 'CJ', 'H', 'CJ', 'SAR', 'CJ', 'RAH', 'CJ', 'H'], ['H', 'PriT', 'CJ', 'W', 'CJ', 'H', 'CJ', 'RAH', 'CJ', 'H'], ['H', 'PriT', 'S', 'CJ', 'RAH', 'CJ', 'H', 'PriT', 'S', 'H', 'PriT', 'AAC', 'PriT', 'H'], ['H', 'CJ', 'RAH', 'CJ', 'H'], ['H', 'RAH', 'H'], ['H', 'RAH', 'H', 'PS', 'H'], ['H', 'RAH', 'H', 'O', 'H'], ['H', 'CJ', 'W', 'CJ', 'H'], ['H', 'CJ', 'RAH', 'H', 'CJ', 'O', 'CJ', 'H'], ['H', 'PriT', 'O', 'PriT', 'RAH', 'PriT', 'H', 'CJ', 'RAH', 'CJ', 'H'], ['H', 'PriT', 'W', 'PriT', 'RAH', 'PriT', 'RAH', 'PriT', 'H'], ['H', 'PriT', 'PS', 'PriT', 'H', 'PriT', 'O', 'PriT', 'H'], ['H', 'PubT', 'W', 'PubT', 'PriT', 'H'], ['H', 'PubT', 'AAC', 'RAH', 'RAH', 'PriT', 'H'], ['H', 'O', 'H', 'O', 'H'], ['H', 'PriT', 'O', 'PriT', 'O', 'PriT', 'H'], ['H', 'CJ', 'RAH', 'CJ', 'H', 'CJ', 'W', 'RAH', 'W', 'RAH', 'CJ', 'H', 'O', 'H'], ['H', 'PriT', 'H'], ['H', 'CJ', 'O', 'CJ', 'H', 'PriT', 'O', 'PriT', 'PriT', 'SAR', 'PriT', 'H'], ['H', 'CJ', 'RAH', 'RAH', 'RAH', 'RAH', 'RAH', 'CJ', 'H', 'PriT', 'RAH', 'PriT', 'H'], ['H'], ['H', 'CJ', 'W', 'CJ', 'H'], ['H', 'PriT', 'RAH', 'PriT', 'S', 'PriT', 'H'], ['H', 'CJ', 'W', 'CJ', 'H'], ['H', 'PriT', 'W', 'CJ', 'O', 'CJ', 'H', 'CJ', 'SAR', 'CJ', 'W', 'CJ', 'H'], ['H', 'CJ', 'RAH', 'CJ', 'H'], ['H'], ['H', 'CJ', 'RAH', 'CJ', 'RAH', 'CJ', 'H'], ['H', 'CJ', 'O', 'CJ', 'RAH', 'CJ', 'RAH', 'CJ', 'H'], ['H', 'CJ', 'W', 'O', 'CJ', 'O', 'CJ', 'O', 'CJ', 'W', 'CJ', 'SAR', 'CJ', 'H', 'PS', 'H'], ['H', 'CJ', 'RAH', 'CJ', 'W', 'CJ', 'H', 'RAH', 'CJ', 'H'], ['H', 'O', 'H'], ['H', 'CJ', 'W', 'CJ', 'W', 'CJ', 'O', 'CJ', 'W', 'CJ', 'H'], ['H', 'O', 'W', 'H'], ['H', 'W', 'CJ', 'O', 'CJ', 'RAH', 'CJ', 'H'], ['H', 'PS', 'PriT', 'H', 'PriT', 'RAH', 'O', 'PriT', 'H'], ['H', 'RAH', 'RAH', 'H'], ['H', 'CJ', 'W', 'CJ', 'H'], ['H', 'RAH', 'H'], ['H', 'PriT', 'S', 'PriT', 'H', 'PriT', 'RAH', 'RAH', 'PriT', 'S', 'PriT', 'H'], ['H', 'CJ', 'W', 'CJ', 'W', 'CJ', 'H', 'SAR', 'CJ', 'RAH', 'CJ', 'H'], ['H', 'CJ', 'O', 'CJ', 'H', 'CJ', 'O', 'CJ', 'H'], ['H', 'PriT', 'SAR', 'CJ', 'H', 'H'], ['H', 'SAR', 'H'], ['H', 'CJ', 'W', 'CJ', 'S', 'PriT', 'O', 'PriT', 'H'], ['H', 'PriT', 'SAR', 'H', 'SAR', 'PriT', 'RAH', 'PriT', 'H'], ['H', 'RAH', 'H'], ['RAH', 'PS', 'RAH', 'PS', 'RAH', 'PriT', 'H', 'PriT', 'O', 'PriT', 'O', 'PriT', 'H'], ['H', 'PriT', 'H', 'O', 'PriT', 'H', 'PriT', 'O', 'PriT', 'H', 'S', 'H', 'PS', 'H'], ['H'], ['H', 'O', 'H', 'RAH', 'H', 'RAH', 'H'], ['H', 'CJ', 'O', 'CJ', 'RAH', 'RAH', 'CJ', 'H', 'CJ', 'O', 'CJ', 'H'], ['H', 'AAC', 'RAH', 'RAH', 'RAH', 'RAH', 'H'], ['H'], ['H', 'PriT', 'O', 'PriT', 'RAH', 'PS', 'RAH', 'PS', 'H'], ['H'], ['H', 'PS', 'H', 'PriT', 'H', 'PriT', 'RAH', 'H', 'W', 'H'], ['H', 'PS', 'S', 'PS', 'RAH', 'PS', 'RAH', 'PS', 'RAH', 'PS', 'H', 'PS', 'S', 'PS', 'H'], ['H', 'CJ', 'S', 'CJ', 'H', 'CJ', 'RAH', 'CJ', 'H', 'CJ', 'W', 'CJ', 'H'], ['H', 'CJ', 'SAR', 'CJ', 'H'], ['H', 'CJ', 'W', 'CJ', 'RAH', 'CJ', 'H'], ['H', 'PubT', 'W', 'PubT', 'H'], ['H', 'PriT', 'RAH', 'PriT', 'RAH', 'PriT', 'H'], ['H'], ['H', 'O', 'S', 'PS', 'RAH', 'O', 'S', 'O', 'S', 'O', 'H', 'S', 'H'], ['H', 'PriT', 'RAH', 'PriT', 'H'], ['H', 'CJ', 'RAH', 'RAH', 'CJ', 'H', 'PriT', 'O', 'PriT', 'H'], ['H', 'PriT', 'CJ', 'W', 'O', 'CJ', 'H'], ['H', 'RAH', 'RAH', 'RAH', 'RAH', 'PubT', 'O', 'H'], ['H', 'PriT', 'O', 'PriT', 'O', 'PriT', 'H'], ['H', 'CJ', 'RAH', 'CJ', 'H', 'CJ', 'RAH', 'S', 'PriT', 'H', 'O', 'CJ', 'H'], ['H'], ['H', 'RAH', 'H'], ['H', 'CJ', 'W', 'CJ', 'H'], ['H', 'PubT', 'RAH', 'W', 'PubT', 'PriT', 'SAR', 'PriT', 'H'], ['H', 'CJ', 'RAH', 'CJ', 'H'], ['H', 'CJ', 'W', 'CJ', 'S'], ['H', 'PubT', 'W', 'PubT', 'AAC', 'H', 'W', 'H'], ['H', 'CJ', 'W', 'CJ', 'H'], ['H', 'CJ', 'W', 'CJ', 'SAR', 'CJ', 'H', 'RAH', 'RAH', 'CJ', 'H'], ['PubT', 'PS', 'PriT', 'H', 'CJ', 'RAH', 'CJ', 'H'], ['H', 'CJ', 'W', 'CJ', 'H'], ['H'], ['H', 'RAH', 'H', 'H'], ['H', 'PriT', 'H', 'S', 'CJ', 'H', 'CJ', 'RAH', 'CJ', 'H', 'PriT', 'H', 'S', 'PriT', 'H', 'RAH', 'PriT', 'H'], ['H'], ['H', 'CJ', 'SAR', 'CJ', 'H', 'RAH', 'RAH', 'CJ', 'RAH', 'RAH', 'RAH', 'CJ', 'H', 'RAH', 'H'], ['H', 'PriT', 'RAH', 'PriT', 'H'], ['H', 'CJ', 'RAH', 'CJ', 'H', 'CJ', 'S', 'PriT', 'H'], ['H', 'PriT', 'H', 'PriT', 'O', 'PriT', 'H'], ['H', 'W', 'W', 'W', 'W', 'H'], ['H', 'PriT', 'AAC', 'PriT', 'H'], ['H', 'CJ', 'SAR', 'CJ', 'RAH', 'RAH', 'RAH', 'O', 'RAH', 'CJ', 'H'], ['H', 'CJ', 'RAH', 'RAH', 'CJ', 'H', 'O', 'H', 'RAH', 'CJ', 'RAH', 'CJ', 'H', 'RAH', 'H'], ['H', 'CJ', 'SAR', 'CJ', 'H'], ['H', 'W', 'RAH', 'CJ', 'H'], ['H'], ['H'], ['H', 'PriT', 'RAH', 'PriT', 'H'], ['H'], ['H', 'CJ', 'W', 'CJ', 'H'], ['H', 'PriT', 'O', 'PriT', 'H'], ['H', 'CJ', 'W', 'CJ', 'S', 'PriT', 'H'], ['H', 'PriT', 'S', 'CJ', 'H', 'CJ', 'S', 'PriT', 'H'], ['PriT', 'W', 'PriT', 'W', 'PriT', 'H'], ['H'], ['H', 'W', 'RAH', 'H'], ['H', 'PriT', 'W', 'PriT', 'H'], ['H', 'CJ', 'W', 'CJ', 'RAH', 'CJ', 'H'], ['H', 'W', 'O', 'W', 'RAH', 'W', 'H'], ['H', 'PriT', 'W', 'RAH', 'W', 'PriT', 'H', 'SAR', 'H', 'SAR', 'H'], ['H', 'O', 'H', 'RAH', 'H'], ['H', 'O', 'O', 'RAH', 'H', 'AAC', 'H'], ['H'], ['H', 'PriT', 'O', 'PriT', 'H', 'PriT', 'SAR', 'PriT', 'H'], ['H'], ['H', 'PriT', 'H'], ['H', 'O', 'PriT', 'H', 'PriT', 'O', 'PriT', 'H'], ['H', 'PubT', 'W', 'PubT', 'H'], ['H', 'CJ', 'W', 'CJ', 'AAC', 'CJ', 'H'], ['H', 'SAR', 'H', 'PriT', 'W', 'H'], ['H', 'PubT', 'S', 'PubT', 'H'], ['H', 'RAH', 'H'], ['H', 'PriT', 'PS', 'PriT', 'H', 'CJ', 'W', 'RAH', 'CJ', 'RAH', 'CJ', 'H'], ['H', 'CJ', 'RAH', 'RAH', 'RAH', 'CJ', 'H'], ['H', 'CJ', 'W', 'CJ', 'O', 'CJ', 'H'], ['H', 'RAH', 'H'], ['H', 'PS', 'H', 'PS', 'H', 'PriT', 'RAH', 'RAH', 'RAH', 'PriT', 'H'], ['H', 'RAH', 'H', 'O', 'H'], ['H', 'PriT', 'O', 'PriT', 'H', 'O', 'H'], ['H', 'CJ', 'W', 'CJ', 'H', 'PriT', 'O', 'CJ', 'H', 'RAH', 'CJ', 'H'], ['H'], ['H', 'PriT', 'H'], ['H', 'CJ', 'W', 'CJ', 'H'], ['H', 'PS', 'H', 'CJ', 'RAH', 'CJ', 'O', 'CJ', 'RAH', 'CJ', 'H'], ['H', 'CJ', 'W', 'PS', 'W', 'RAH', 'CJ', 'H'], ['H', 'PriT', 'RAH', 'PriT', 'SAR', 'PriT', 'H', 'PS', 'RAH', 'PS', 'H', 'PriT', 'AAC', 'PriT', 'H', 'PS', 'H'], ['H'], ['H', 'RAH', 'H', 'PriT', 'RAH', 'H', 'RAH', 'H', 'AAC', 'H'], ['H', 'CJ', 'O', 'PriT', 'H', 'CJ', 'RAH', 'O', 'CJ', 'H'], ['H', 'W', 'H'], ['H', 'CJ', 'SAR', 'CJ', 'RAH', 'CJ', 'H'], ['H', 'RAH', 'RAH', 'RAH', 'PriT', 'H', 'SAR', 'CJ', 'H'], ['H', 'CJ', 'W', 'RAH', 'W', 'CJ', 'H', 'PS', 'H'], ['H', 'O', 'RAH', 'H', 'RAH', 'H', 'RAH', 'H'], ['H'], ['H', 'PriT', 'W', 'PriT', 'H'], ['H', 'CJ', 'RAH', 'CJ', 'H', 'AAC', 'PriT', 'AAC', 'AAC', 'AAC', 'PriT', 'PS', 'RAH', 'PriT', 'AAC', 'PriT', 'H'], ['H'], ['H', 'RAH', 'RAH', 'H', 'PriT', 'S', 'PriT', 'H'], ['H', 'AAC', 'PriT', 'SAR', 'H', 'RAH', 'H', 'O', 'H'], ['H', 'PriT', 'O', 'PriT', 'H'], ['H', 'PriT', 'W', 'PriT', 'H', 'CJ', 'RAH', 'CJ', 'H'], ['H', 'PriT', 'RAH', 'PriT', 'H'], ['H', 'CJ', 'S', 'CJ', 'H', 'CJ', 'S', 'CJ', 'H'], ['H', 'O', 'H', 'PriT', 'RAH', 'PriT', 'H'], ['H'], ['H'], ['RAH', 'RAH', 'PS', 'PS', 'PS', 'PubT', 'PS', 'PubT', 'PS', 'H'], ['H', 'CJ', 'SAR', 'CJ', 'H'], ['H', 'SAR', 'CJ', 'H'], ['H', 'PriT', 'RAH', 'RAH', 'PriT', 'H'], ['H'], ['H'], ['H', 'PriT', 'RAH', 'PriT', 'H'], ['H'], ['H', 'PriT', 'S', 'PriT', 'RAH', 'PriT', 'H'], ['H', 'PriT', 'O', 'PriT', 'RAH', 'PriT', 'H', 'PS', 'H', 'O', 'H'], ['RAH', 'PriT', 'O', 'PubT', 'PS', 'PS', 'CJ', 'H', 'RAH', 'CJ', 'H'], ['H', 'CJ', 'RAH', 'CJ', 'H'], ['H', 'RAH', 'H', 'AAC', 'H'], ['H', 'PriT', 'AAC', 'PriT', 'PS', 'PriT', 'AAC', 'PriT', 'H'], ['H', 'CJ', 'W', 'H'], ['H'], ['H', 'PriT', 'O', 'RAH', 'RAH', 'RAH', 'PriT', 'H', 'PriT', 'RAH', 'PriT', 'H', 'PriT', 'S', 'PriT', 'O', 'PriT', 'H', 'PriT', 'RAH', 'PriT', 'H', 'PriT', 'H'], ['H', 'RAH', 'RAH', 'RAH', 'H', 'RAH', 'H'], ['H', 'PriT', 'O', 'PriT', 'O', 'RAH', 'PriT', 'H'], ['H', 'PS', 'H', 'PS', 'PriT', 'RAH', 'PriT', 'H', 'PriT', 'O', 'PriT', 'H'], ['H', 'SAR', 'PS', 'H', 'S', 'H', 'S', 'H', 'S', 'H'], ['H'], ['H', 'SAR', 'RAH', 'RAH', 'RAH', 'H'], ['H', 'CJ', 'PS', 'CJ', 'H'], ['PS', 'PubT', 'PriT', 'PriT', 'H'], ['H', 'CJ', 'SAR', 'CJ', 'RAH', 'CJ', 'H', 'CJ', 'SAR', 'CJ', 'O', 'CJ', 'RAH', 'CJ', 'H'], ['H', 'CJ', 'RAH', 'CJ', 'RAH', 'RAH', 'CJ', 'H', 'PriT', 'RAH', 'RAH', 'PS', 'PriT', 'O'], ['O', 'W', 'W', 'RAH', 'O'], ['H', 'PriT', 'RAH', 'RAH', 'RAH', 'RAH', 'PriT', 'H'], ['H', 'S', 'H', 'O', 'RAH', 'RAH', 'H'], ['H', 'CJ', 'RAH', 'RAH', 'RAH', 'RAH', 'CJ', 'O', 'RAH', 'CJ', 'RAH', 'RAH', 'CJ', 'H', 'CJ', 'RAH', 'CJ', 'H', 'CJ', 'O', 'CJ', 'H'], ['H', 'CJ', 'O', 'PS', 'O', 'CJ', 'H'], ['H', 'PriT', 'RAH', 'RAH', 'PriT', 'H', 'PriT', 'O', 'PriT', 'O', 'PriT', 'AAC', 'PriT', 'H'], ['H', 'PriT', 'O', 'PriT', 'H'], ['H', 'SAR', 'H'], ['H', 'CJ', 'RAH', 'CJ', 'H'], ['H', 'PriT', 'RAH', 'PriT', 'H'], ['O', 'PriT', 'H'], ['H', 'CJ', 'W', 'CJ', 'H', 'CJ', 'O', 'CJ', 'H'], ['W', 'PriT', 'H', 'RAH', 'H', 'PriT', 'RAH', 'PriT', 'H', 'PriT', 'H'], ['H', 'PubT', 'PS', 'PubT', 'H'], ['H', 'RAH', 'CJ', 'H'], ['O', 'PriT', 'H'], ['H'], ['H', 'W', 'H', 'CJ', 'RAH', 'RAH', 'CJ', 'H'], ['H', 'CJ', 'O', 'CJ', 'H', 'RAH', 'CJ', 'H', 'CJ', 'O', 'CJ', 'RAH', 'RAH', 'CJ', 'H'], ['H', 'CJ', 'W', 'CJ', 'H', 'CJ', 'O', 'CJ', 'H'], ['H', 'PubT', 'SAR', 'W', 'PubT', 'H'], ['H', 'SAR', 'RAH', 'O', 'O', 'H'], ['H'], ['H', 'PriT', 'O', 'PriT', 'O', 'PriT', 'H'], ['H', 'PS', 'H', 'RAH', 'H'], ['H', 'CJ', 'RAH', 'CJ', 'H', 'PriT', 'O', 'PriT', 'H'], ['H', 'CJ', 'RAH', 'CJ', 'O', 'PriT', 'H'], ['H', 'CJ', 'S', 'CJ', 'S', 'CJ', 'H'], ['H', 'CJ', 'W', 'CJ', 'H', 'PriT', 'RAH', 'PriT', 'H'], ['H', 'CJ', 'W', 'CJ', 'H'], ['H', 'AAC', 'PriT', 'RAH', 'H'], ['H', 'CJ', 'SAR', 'CJ', 'H', 'W', 'CJ', 'H'], ['H', 'CJ', 'PS', 'CJ', 'RAH', 'CJ', 'RAH', 'CJ', 'O', 'CJ', 'H'], ['H', 'SAR', 'CJ', 'RAH', 'RAH', 'CJ', 'H'], ['H', 'O', 'PriT', 'W', 'PriT', 'RAH', 'PriT', 'O', 'PriT', 'H'], ['H', 'PS', 'H'], ['H', 'S', 'H', 'S', 'H'], ['H', 'CJ', 'PS', 'CJ', 'H', 'PriT', 'RAH', 'PriT', 'H'], ['H', 'CJ', 'W', 'H', 'O', 'H', 'RAH', 'H', 'O', 'H'], ['H', 'PriT', 'O', 'PriT', 'H'], ['H'], ['H', 'PriT', 'RAH', 'PriT', 'H'], ['H', 'O', 'RAH', 'H'], ['H', 'CJ', 'RAH', 'CJ', 'H'], ['H', 'PriT', 'O', 'PriT', 'H'], ['RAH', 'PubT', 'PS', 'PS', 'PriT', 'CJ', 'H', 'CJ', 'PS', 'PriT', 'H'], ['H', 'CJ', 'RAH', 'CJ', 'H', 'CJ', 'PriT', 'H', 'PriT', 'O', 'PriT', 'H'], ['H', 'CJ', 'W', 'CJ', 'H'], ['H', 'PriT', 'RAH', 'PriT', 'H'], ['H', 'CJ', 'O', 'CJ', 'H'], ['H'], ['H', 'O', 'RAH', 'H'], ['H', 'PriT', 'O', 'PriT', 'H'], ['H', 'O', 'H'], ['H', 'PriT', 'S', 'CJ', 'W', 'CJ', 'H', 'SAR', 'CJ', 'H'], ['H', 'PriT', 'RAH', 'PriT', 'H', 'PriT', 'O', 'O', 'PriT', 'H'], ['H', 'W', 'H', 'RAH', 'H'], ['H', 'CJ', 'W', 'CJ', 'H', 'CJ', 'W', 'CJ', 'H'], ['H', 'PriT', 'AAC', 'PriT', 'RAH', 'PriT', 'H'], ['H', 'PriT', 'CJ', 'SAR', 'CJ', 'RAH', 'CJ', 'H', 'CJ', 'S', 'O', 'PriT', 'O', 'PriT', 'H'], ['H', 'O', 'RAH', 'RAH', 'RAH', 'RAH', 'PriT', 'H', 'PriT', 'O', 'PriT', 'O', 'PriT', 'H'], ['H', 'SAR', 'H'], ['H'], ['H', 'W', 'H'], ['H', 'RAH', 'H', 'O', 'RAH', 'H'], ['H', 'CJ', 'O', 'CJ', 'H', 'CJ', 'RAH', 'CJ', 'H'], ['H', 'PriT', 'H'], ['H', 'RAH', 'H'], ['H', 'CJ', 'RAH', 'CJ', 'H'], ['H', 'PriT', 'O', 'PriT', 'H'], ['H', 'CJ', 'RAH', 'O', 'PriT', 'H', 'PriT', 'RAH', 'CJ', 'H', 'O', 'CJ', 'H'], ['H', 'O', 'SAR', 'H'], ['H', 'AAC', 'H'], ['H'], ['H', 'CJ', 'O', 'CJ', 'RAH', 'CJ', 'H'], ['H'], ['H', 'S', 'H', 'S', 'H', 'PriT', 'AAC'], ['H', 'PriT', 'RAH', 'PriT', 'H'], ['H', 'PriT', 'SAR', 'PriT', 'H'], ['H', 'CJ', 'RAH', 'CJ', 'RAH', 'CJ', 'H'], ['H', 'S', 'S', 'H', 'W', 'H', 'S', 'S', 'H'], ['H'], ['H', 'PriT', 'O', 'CJ', 'W', 'CJ', 'S', 'PriT', 'O', 'PriT', 'H', 'O', 'H'], ['H', 'CJ', 'O', 'CJ', 'H'], ['H', 'PriT', 'RAH', 'PriT', 'H', 'PS', 'PriT', 'H', 'PriT', 'RAH', 'PriT', 'H'], ['H', 'PriT', 'SAR', 'PriT', 'H', 'PriT', 'SAR', 'PriT', 'H'], ['H'], ['H', 'CJ', 'W', 'CJ', 'H', 'PriT', 'O', 'PriT', 'H'], ['H', 'RAH', 'H'], ['H', 'PriT', 'O', 'PubT', 'RAH', 'O', 'PubT', 'O', 'PriT', 'RAH', 'PriT', 'H', 'RAH', 'RAH', 'CJ', 'H'], ['H', 'CJ', 'RAH', 'CJ', 'RAH', 'CJ', 'H', 'CJ', 'RAH', 'CJ', 'H'], ['H', 'CJ', 'O', 'CJ', 'W', 'CJ', 'O', 'CJ', 'H'], ['H', 'PriT', 'O', 'PriT', 'H'], ['H', 'CJ', 'W', 'CJ', 'H', 'PS', 'H'], ['H', 'H', 'AAC'], ['H', 'W', 'PS', 'O', 'W', 'O', 'RAH', 'W', 'S', 'H', 'SAR', 'H'], ['H', 'CJ', 'O', 'CJ', 'W', 'CJ', 'RAH', 'CJ', 'RAH', 'H'], ['H', 'CJ', 'O', 'CJ', 'H'], ['H'], ['H', 'CJ', 'O', 'CJ', 'H'], ['H', 'CJ', 'W', 'CJ', 'O', 'CJ', 'H'], ['H', 'CJ', 'W', 'CJ', 'H'], ['H', 'RAH', 'H', 'O', 'H'], ['H', 'PubT', 'S', 'PubT', 'RAH', 'RAH', 'H'], ['O', 'PriT', 'O', 'PriT', 'O', 'PriT', 'O'], ['H', 'CJ', 'RAH', 'CJ', 'RAH', 'CJ', 'RAH', 'CJ', 'RAH', 'CJ', 'H'], ['H', 'PubT', 'PS', 'PubT', 'H'], ['H'], ['H', 'PriT', 'O', 'PriT', 'H'], ['H'], ['H', 'PubT', 'RAH', 'PubT', 'O', 'H'], ['H', 'CJ', 'RAH', 'CJ', 'RAH', 'CJ', 'O', 'CJ', 'H', 'PriT', 'O', 'PriT', 'H', 'O', 'CJ', 'H'], ['H', 'RAH', 'W', 'H'], ['H', 'PriT', 'O', 'CJ', 'SAR', 'CJ', 'W', 'CJ', 'O', 'CJ', 'H', 'CJ', 'H'], ['H', 'PS', 'H', 'CJ', 'W', 'CJ', 'H'], ['H', 'PriT', 'S', 'PriT', 'RAH', 'PriT', 'RAH', 'PriT', 'PriT', 'O', 'PriT', 'H', 'O', 'PriT', 'H', 'S', 'PriT', 'H'], ['H', 'PriT', 'O', 'PriT', 'RAH', 'PriT', 'H'], ['H', 'CJ', 'RAH', 'CJ', 'RAH', 'CJ', 'H'], ['H'], ['H', 'CJ', 'O', 'PriT', 'RAH', 'RAH', 'O', 'PriT', 'O', 'CJ', 'H'], ['PriT', 'O', 'PriT', 'H', 'PS', 'AAC', 'H'], ['H', 'SAR', 'RAH', 'H'], ['H', 'PS', 'RAH', 'W', 'PriT', 'H'], ['H', 'SAR', 'O', 'RAH', 'PriT', 'O', 'PriT', 'O', 'H', 'RAH', 'SAR', 'H'], ['H', 'PriT', 'RAH', 'PriT', 'H'], ['H', 'SAR', 'RAH', 'H'], ['H', 'PriT', 'RAH', 'PriT', 'SAR', 'PriT', 'H'], ['H', 'SAR', 'H', 'S', 'H'], ['H', 'RAH', 'H'], ['H', 'AAC', 'AAC', 'CJ', 'H'], ['H', 'CJ', 'O', 'CJ', 'H', 'CJ', 'RAH', 'CJ', 'H'], ['O', 'PriT', 'H'], ['H', 'W', 'H'], ['H', 'RAH', 'CJ', 'H'], ['H', 'CJ', 'W', 'CJ', 'H'], ['H', 'CJ', 'W', 'CJ', 'O', 'CJ', 'H'], ['H', 'PriT', 'W', 'PubT', 'PubT', 'W', 'PubT', 'H', 'PriT', 'O', 'PriT', 'H'], ['H', 'PriT', 'W', 'CJ', 'O', 'PriT', 'H'], ['H', 'PriT', 'S', 'CJ', 'H', 'CJ', 'S', 'PriT', 'PS', 'PriT', 'H'], ['H', 'PubT', 'RAH', 'PubT', 'PubT', 'RAH', 'PubT', 'H', 'PubT', 'PubT', 'O', 'PubT', 'PubT', 'H'], ['H', 'PriT', 'RAH', 'PriT', 'H'], ['H', 'CJ', 'SAR', 'CJ', 'H'], ['H', 'CJ', 'O', 'CJ', 'RAH', 'RAH', 'RAH', 'CJ', 'RAH', 'CJ', 'H'], ['H', 'CJ', 'RAH', 'CJ', 'H'], ['O', 'CJ', 'H', 'PriT', 'W', 'CJ', 'H', 'RAH', 'CJ', 'O', 'PriT', 'RAH', 'PriT', 'H', 'CJ', 'O'], ['H', 'PubT', 'SAR', 'PS', 'PubT', 'RAH', 'H'], ['H', 'CJ', 'O', 'CJ', 'H'], ['H', 'PS', 'RAH', 'PS', 'H', 'CJ', 'RAH', 'CJ', 'H'], ['H'], ['H', 'CJ', 'O', 'PriT', 'SAR', 'PriT', 'O', 'CJ', 'H'], ['H'], ['RAH', 'SAR', 'H', 'CJ', 'PriT', 'AAC', 'O', 'PriT', 'H'], ['H'], ['H', 'CJ', 'RAH', 'CJ', 'H', 'CJ', 'RAH', 'CJ', 'RAH', 'CJ', 'H', 'CJ', 'RAH', 'CJ', 'H'], ['H', 'CJ', 'W', 'W', 'W', 'W', 'PubT', 'RAH', 'PubT', 'H'], ['H', 'CJ', 'RAH', 'CJ', 'H'], ['H', 'RAH', 'H'], ['H', 'CJ', 'SAR', 'CJ', 'H', 'PriT', 'RAH', 'PriT', 'O', 'PriT', 'SAR', 'RAH', 'SAR', 'PubT', 'H'], ['H', 'CJ', 'W', 'CJ', 'H'], ['H', 'PS', 'O', 'PubT', 'RAH', 'PubT', 'AAC', 'PubT', 'O', 'PubT', 'PS', 'RAH', 'PubT', 'H'], ['H', 'W', 'H'], ['H'], ['H', 'PriT', 'RAH', 'PriT', 'H', 'RAH', 'RAH', 'PriT', 'H', 'PriT', 'AAC', 'H', 'PubT', 'RAH', 'PubT', 'H'], ['H', 'O', 'H'], ['H', 'CJ', 'W', 'CJ', 'H'], ['H', 'W', 'RAH', 'W', 'H', 'RAH', 'RAH', 'RAH', 'H'], ['H', 'CJ', 'W', 'CJ', 'RAH', 'PriT', 'O', 'CJ', 'H'], ['H', 'O', 'H', 'CJ', 'RAH', 'CJ', 'H', 'CJ', 'S', 'CJ', 'H', 'PriT', 'RAH', 'PriT', 'H'], ['H', 'PS', 'RAH', 'RAH', 'H'], ['H', 'CJ', 'RAH', 'CJ', 'H', 'PriT', 'RAH', 'PriT', 'H'], ['H', 'PubT', 'RAH', 'RAH', 'PubT', 'H'], ['H'], ['H', 'PubT', 'W', 'PubT', 'H'], ['H', 'CJ', 'RAH', 'CJ', 'H'], ['H', 'CJ', 'SAR', 'S', 'CJ', 'RAH', 'RAH', 'H'], ['H', 'W', 'H'], ['H', 'PriT', 'RAH', 'PriT', 'H'], ['H', 'PriT', 'RAH', 'PriT', 'H'], ['H', 'RAH', 'RAH', 'H'], ['H', 'PubT', 'RAH', 'PubT', 'SAR', 'PubT', 'PriT', 'H', 'RAH', 'H'], ['H'], ['H', 'PriT', 'O', 'PriT', 'H'], ['H'], ['H'], ['H', 'O', 'H'], ['H', 'RAH', 'H'], ['H', 'PriT', 'O', 'PriT', 'H', 'O', 'H'], ['H', 'O', 'H', 'O', 'SAR', 'H'], ['H'], ['H'], ['O'], ['H'], ['H'], ['O', 'PriT', 'CJ', 'O', 'PriT', 'O', 'PriT', 'H'], ['H'], ['H'], ['H'], ['H', 'PriT', 'RAH', 'PriT', 'H'], ['H'], ['H', 'CJ', 'W', 'W', 'W', 'W', 'W', 'CJ', 'H'], ['H', 'CJ', 'W', 'CJ', 'H'], ['H', 'PS', 'PS', 'PS', 'H'], ['H', 'PS', 'CJ', 'RAH', 'CJ', 'H'], ['H', 'PS', 'RAH', 'PriT', 'H', 'CJ', 'RAH', 'CJ', 'H'], ['H', 'PriT', 'SAR', 'PriT', 'SAR', 'RAH', 'PriT', 'H'], ['H', 'PS', 'RAH', 'H', 'PriT', 'PS'], ['H', 'RAH', 'CJ', 'O', 'CJ', 'RAH', 'CJ', 'H'], ['H', 'O', 'CJ', 'RAH', 'CJ', 'H'], ['H', 'RAH', 'O', 'AAC', 'H'], ['H', 'RAH', 'PriT', 'RAH', 'RAH', 'CJ', 'H'], ['H', 'CJ', 'W', 'RAH', 'CJ', 'H'], ['H'], ['H', 'PS', 'H'], ['H', 'CJ', 'O', 'CJ', 'H']]\n"
     ]
    }
   ],
   "source": [
    "print(text_type)"
   ]
  },
  {
   "cell_type": "code",
   "execution_count": 148,
   "metadata": {},
   "outputs": [],
   "source": [
    "from sklearn.feature_extraction import DictVectorizer\n",
    "vec = DictVectorizer()\n",
    "matrix_freq = vec.fit_transform(X_location_type_dic)\n",
    "# print(vec.fit_transform(X_location_type_dic))"
   ]
  },
  {
   "cell_type": "code",
   "execution_count": 57,
   "metadata": {},
   "outputs": [
    {
     "name": "stdout",
     "output_type": "stream",
     "text": [
      "['AAC', 'CJ', 'H', 'O', 'PS', 'PT', 'RAH', 'S', 'SAR', 'W']\n"
     ]
    }
   ],
   "source": [
    "print(vec.get_feature_names())"
   ]
  },
  {
   "cell_type": "code",
   "execution_count": 58,
   "metadata": {},
   "outputs": [],
   "source": [
    "############################ Unsupervised algorithms ###############################"
   ]
  },
  {
   "cell_type": "code",
   "execution_count": 52,
   "metadata": {},
   "outputs": [
    {
     "name": "stdout",
     "output_type": "stream",
     "text": [
      "[1 2 3 ... 1 1 3]\n",
      "[[ 6.96202532e-02  1.48734177e-01  9.90506329e-01  1.00000000e+00\n",
      "   2.08860759e-01  7.27848101e-01  9.81012658e-02  6.67721519e-01\n",
      "   1.67721519e-01  1.45569620e-01  1.01265823e-01]\n",
      " [ 3.37078652e-02  2.22044605e-15  9.93258427e-01  7.41573034e-02\n",
      "   1.28089888e-01  1.99840144e-15  1.05617978e-01  2.85393258e-01\n",
      "   6.51685393e-02  7.41573034e-02  2.00000000e-01]\n",
      " [ 1.06796117e-01  1.97411003e-01  1.00000000e+00 -1.66533454e-15\n",
      "   1.74757282e-01  1.00000000e+00  7.11974110e-02  6.89320388e-01\n",
      "   1.61812298e-01  1.77993528e-01  3.20388350e-01]\n",
      " [ 2.95358650e-02  1.00000000e+00  1.00000000e+00  3.79746835e-01\n",
      "   1.01265823e-01  8.43881857e-02  2.53164557e-02  5.27426160e-01\n",
      "   5.06329114e-02  1.60337553e-01  4.76793249e-01]]\n"
     ]
    }
   ],
   "source": [
    "from sklearn.cluster import KMeans\n",
    "X = np.array(X_location_type)\n",
    "kmeans = KMeans(n_clusters=4, random_state=0).fit(X)\n",
    "print(kmeans.labels_)\n",
    "print(kmeans.cluster_centers_)"
   ]
  },
  {
   "cell_type": "code",
   "execution_count": 59,
   "metadata": {},
   "outputs": [],
   "source": [
    "import operator\n",
    "class KMeans(object):\n",
    "    def __init__(self, k, init_vec, max_iter=100):\n",
    "        \"\"\"\n",
    "        :param k:\n",
    "        :param init_vec: init mean vectors type: k * n array(n properties)\n",
    "        \"\"\"\n",
    "        self._k = k\n",
    "        self._cluster_vec = init_vec\n",
    "        self._max_iter = max_iter\n",
    "\n",
    "    def fit(self, x):\n",
    "        for i in range(self._max_iter):\n",
    "            print('iteration %s' % i)\n",
    "            d_cluster = self._cluster_point(x)\n",
    "            new_center_node = self._reevaluate_center_node(d_cluster)\n",
    "\n",
    "            if self._check_converge(new_center_node):\n",
    "                print('found converge node')\n",
    "                break\n",
    "            else:\n",
    "                self._cluster_vec = new_center_node\n",
    "\n",
    "    def _cal_distance(self, vec1, vec2):\n",
    "        return np.linalg.norm(vec1 - vec2)\n",
    "\n",
    "    def _cluster_point(self, x):\n",
    "        # 每个簇心对应的簇节点\n",
    "        lst_cluster_idx = []\n",
    "        d_cluster = {}\n",
    "\n",
    "        for x_node in x:\n",
    "            lst_dis = []\n",
    "            for c_node in self._cluster_vec:\n",
    "                d = self._cal_distance(c_node, x_node)\n",
    "                lst_dis.append(d)\n",
    "            min_idx, min_dis = min(enumerate(lst_dis), key=operator.itemgetter(1))\n",
    "            lst_cluster_idx.append(min_idx)\n",
    "\n",
    "        for i, idx in enumerate(lst_cluster_idx):\n",
    "            if idx not in d_cluster.keys():\n",
    "                d_cluster[idx] = np.array([x[i]])\n",
    "            else:\n",
    "                d_cluster[idx] = np.append(d_cluster[idx], [x[i]], axis=0)\n",
    "\n",
    "        return d_cluster\n",
    "\n",
    "    def _reevaluate_center_node(self, d_cluster):\n",
    "        arr_center_node = np.empty_like(self._cluster_vec)\n",
    "        for i, k in enumerate(d_cluster.keys()):\n",
    "            arr_center_node[i] = np.mean(d_cluster[k], axis=0)\n",
    "\n",
    "        return arr_center_node\n",
    "\n",
    "    def _check_converge(self, vec):\n",
    "        return np.array_equal(self._cluster_vec, vec)\n",
    "\n",
    "    def get_center_node(self):\n",
    "        return self._cluster_vec\n",
    "\n",
    "    def pred(self, arr_data):\n",
    "        \"\"\"\n",
    "        :param arr_data: numpy array\n",
    "        :return:\n",
    "        \"\"\"\n",
    "        ret_lst_label =[]\n",
    "        for sample in arr_data:\n",
    "            lst_d = []\n",
    "            for node in self._cluster_vec:\n",
    "                d = self._cal_distance(sample, node)\n",
    "                lst_d.append(d)\n",
    "\n",
    "            label, min_d = min(enumerate(lst_d), key=operator.itemgetter(1))\n",
    "            ret_lst_label.append(label)\n",
    "\n",
    "        return ret_lst_label"
   ]
  },
  {
   "cell_type": "code",
   "execution_count": 60,
   "metadata": {},
   "outputs": [],
   "source": [
    "# import matplotlib.pyplot as plt\n",
    "# def plot_cluster(x, center_node):\n",
    "#     plt.scatter(x[:, 0], x[:, 1], s=20)\n",
    "#     plt.scatter(center_node[:, 0], center_node[:, 1], c='black', s=200, alpha=0.5)\n",
    "#     plt.show()"
   ]
  },
  {
   "cell_type": "code",
   "execution_count": 84,
   "metadata": {},
   "outputs": [],
   "source": [
    "import numpy as np\n",
    "arr_location_type = np.asarray(X_location_type)\n",
    "k = 2\n",
    "lst_idx_type = np.random.randint(arr_location_type.shape[0], size=k)\n",
    "init_vec_type = arr_location_type[lst_idx_type]"
   ]
  },
  {
   "cell_type": "code",
   "execution_count": 86,
   "metadata": {},
   "outputs": [],
   "source": [
    "import numpy as np\n",
    "arr_duration = np.asarray(X_duration)\n",
    "k = 2\n",
    "lst_idx_duration = np.random.randint(arr_duration.shape[0], size=k)\n",
    "init_vec_duration = arr_duration[lst_idx_duration]"
   ]
  },
  {
   "cell_type": "code",
   "execution_count": 87,
   "metadata": {},
   "outputs": [],
   "source": [
    "import numpy as np\n",
    "arr_freq = np.asarray(X_freq)\n",
    "k = 2\n",
    "lst_idx_freq = np.random.randint(arr_freq.shape[0], size=k)\n",
    "init_vec_freq = arr_freq[lst_idx_freq]"
   ]
  },
  {
   "cell_type": "code",
   "execution_count": 83,
   "metadata": {},
   "outputs": [
    {
     "data": {
      "text/plain": [
       "array([156,  47])"
      ]
     },
     "execution_count": 83,
     "metadata": {},
     "output_type": "execute_result"
    }
   ],
   "source": [
    "lst_idx"
   ]
  },
  {
   "cell_type": "code",
   "execution_count": 85,
   "metadata": {},
   "outputs": [
    {
     "name": "stdout",
     "output_type": "stream",
     "text": [
      "iteration 0\n",
      "iteration 1\n",
      "iteration 2\n",
      "iteration 3\n",
      "iteration 4\n",
      "iteration 5\n",
      "iteration 6\n",
      "iteration 7\n",
      "iteration 8\n",
      "iteration 9\n",
      "iteration 10\n",
      "iteration 11\n",
      "iteration 12\n",
      "iteration 13\n",
      "iteration 14\n",
      "iteration 15\n",
      "iteration 16\n",
      "iteration 17\n",
      "iteration 18\n",
      "iteration 19\n",
      "iteration 20\n",
      "iteration 21\n",
      "iteration 22\n",
      "iteration 23\n",
      "iteration 24\n",
      "iteration 25\n",
      "iteration 26\n",
      "iteration 27\n",
      "iteration 28\n",
      "iteration 29\n",
      "iteration 30\n",
      "iteration 31\n",
      "iteration 32\n",
      "iteration 33\n",
      "iteration 34\n",
      "iteration 35\n",
      "iteration 36\n",
      "iteration 37\n",
      "iteration 38\n",
      "iteration 39\n",
      "iteration 40\n",
      "iteration 41\n",
      "iteration 42\n",
      "iteration 43\n",
      "iteration 44\n",
      "iteration 45\n",
      "iteration 46\n",
      "iteration 47\n",
      "iteration 48\n",
      "iteration 49\n",
      "iteration 50\n",
      "iteration 51\n",
      "iteration 52\n",
      "iteration 53\n",
      "iteration 54\n",
      "iteration 55\n",
      "iteration 56\n",
      "iteration 57\n",
      "iteration 58\n",
      "iteration 59\n",
      "iteration 60\n",
      "iteration 61\n",
      "iteration 62\n",
      "iteration 63\n",
      "iteration 64\n",
      "iteration 65\n",
      "iteration 66\n",
      "iteration 67\n",
      "iteration 68\n",
      "iteration 69\n",
      "iteration 70\n",
      "iteration 71\n",
      "iteration 72\n",
      "iteration 73\n",
      "iteration 74\n",
      "iteration 75\n",
      "iteration 76\n",
      "iteration 77\n",
      "iteration 78\n",
      "iteration 79\n",
      "iteration 80\n",
      "iteration 81\n",
      "iteration 82\n",
      "iteration 83\n",
      "iteration 84\n",
      "iteration 85\n",
      "iteration 86\n",
      "iteration 87\n",
      "iteration 88\n",
      "iteration 89\n",
      "iteration 90\n",
      "iteration 91\n",
      "iteration 92\n",
      "iteration 93\n",
      "iteration 94\n",
      "iteration 95\n",
      "iteration 96\n",
      "iteration 97\n",
      "iteration 98\n",
      "iteration 99\n",
      "[0, 1, 1, 1, 1, 0, 0, 1, 0, 1, 1, 1, 1, 0, 0, 0, 1, 0, 1, 1, 1, 1, 1, 1, 1, 1, 1, 1, 1, 1, 1, 1, 1, 1, 0, 1, 1, 1, 1, 1, 1, 1, 1, 1, 1, 0, 1, 1, 0, 1, 1, 1, 0, 0, 1, 1, 0, 1, 0, 1, 0, 1, 0, 0, 1, 1, 1, 1, 1, 0, 0, 1, 1, 0, 1, 1, 1, 1, 1, 1, 1, 1, 0, 1, 1, 1, 1, 1, 1, 1, 1, 1, 1, 0, 1, 0, 1, 1, 1, 1, 1, 1, 0, 1, 0, 1, 0, 0, 1, 0, 1, 1, 0, 1, 1, 1, 0, 1, 1, 0, 0, 1, 0, 0, 0, 1, 1, 1, 1, 0, 0, 1, 1, 1, 0, 0, 1, 1, 1, 0, 1, 1, 0, 0, 1, 1, 1, 0, 0, 1, 0, 1, 1, 0, 1, 1, 0, 1, 1, 1, 1, 1, 1, 1, 1, 0, 1, 1, 1, 0, 1, 1, 1, 0, 1, 0, 1, 1, 0, 1, 1, 1, 0, 0, 0, 1, 1, 1, 0, 1, 0, 1, 1, 1, 0, 1, 0, 1, 1, 0, 1, 1, 0, 1, 1, 1, 1, 1, 1, 1, 1, 1, 1, 1, 1, 1, 1, 0, 1, 1, 0, 1, 1, 1, 1, 0, 0, 1, 0, 1, 1, 1, 1, 1, 1, 1, 1, 1, 0, 1, 1, 0, 1, 0, 1, 0, 1, 0, 0, 1, 1, 1, 1, 0, 1, 1, 1, 1, 0, 1, 1, 1, 1, 1, 1, 1, 1, 0, 1, 1, 0, 1, 0, 1, 0, 0, 0, 1, 1, 1, 0, 1, 1, 1, 1, 0, 0, 1, 1, 1, 1, 1, 1, 0, 1, 1, 1, 1, 0, 1, 1, 1, 1, 1, 1, 1, 1, 1, 1, 0, 1, 1, 1, 1, 0, 1, 1, 1, 1, 1, 1, 1, 1, 0, 1, 1, 0, 1, 1, 1, 1, 0, 1, 0, 1, 1, 1, 0, 1, 0, 1, 1, 0, 0, 1, 1, 1, 0, 1, 1, 0, 1, 1, 0, 1, 1, 1, 1, 1, 0, 1, 1, 0, 0, 1, 1, 1, 0, 0, 1, 1, 1, 1, 1, 1, 1, 1, 1, 1, 1, 0, 0, 0, 0, 1, 0, 0, 1, 1, 0, 1, 1, 1, 1, 0, 1, 1, 1, 0, 1, 0, 1, 1, 1, 0, 1, 0, 1, 1, 1, 0, 0, 1, 1, 1, 0, 1, 1, 1, 0, 0, 1, 1, 1, 1, 0, 1, 0, 0, 1, 1, 0, 1, 0, 0, 0, 1, 1, 0, 1, 0, 1, 1, 0, 0, 0, 1, 1, 0, 1, 1, 1, 0, 1, 1, 1, 1, 1, 1, 1, 1, 1, 0, 1, 1, 1, 1, 1, 1, 0, 0, 1, 1, 1, 1, 1, 1, 1, 1, 1, 1, 1, 0, 1, 1, 1, 1, 1, 0, 0, 1, 1, 0, 1, 1, 1, 1, 1, 0, 1, 1, 1, 1, 1, 0, 1, 1, 1, 1, 1, 1, 1, 1, 1, 0, 0, 1, 1, 1, 0, 1, 1, 1, 0, 0, 0, 0, 1, 1, 0, 1, 1, 1, 1, 1, 0, 1, 1, 0, 1, 0, 1, 0, 0, 1, 0, 1, 1, 1, 1, 0, 1, 0, 1, 1, 1, 1, 0, 0, 1, 1, 1, 1, 1, 0, 1, 0, 0, 1, 1, 0, 0, 1, 0, 1, 0, 1, 0, 1, 1, 1, 1, 0, 0, 1, 1, 0, 1, 0, 1, 1, 1, 1, 1, 0, 1, 1, 1, 1, 0, 1, 1, 1, 1, 1, 0, 1, 1, 1, 1, 1, 1, 1, 1, 1, 1, 0, 1, 0, 0, 1, 1, 1, 1, 1, 0, 0, 0, 1, 1, 1, 1, 1, 1, 0, 0, 1, 1, 0, 1, 1, 1, 0, 0, 1, 1, 1, 1, 0, 1, 1, 1, 0, 1, 1, 1, 0, 0, 0, 1, 1, 1, 1, 1, 1, 0, 1, 1, 1, 0, 0, 1, 1, 1, 1, 1, 1, 1, 1, 1, 1, 0, 0, 0, 1, 1, 1, 1, 1, 1, 1, 1, 1, 1, 0, 1, 0, 1, 0, 0, 1, 1, 1, 1, 0, 1, 1, 1, 1, 0, 1, 1, 1, 0, 0, 1, 1, 1, 1, 1, 1, 0, 0, 0, 1, 1, 1, 0, 1, 1, 0, 0, 1, 1, 1, 1, 1, 1, 0, 1, 1, 0, 1, 1, 1, 0, 1, 0, 1, 1, 1, 1, 0, 0, 1, 1, 0, 1, 1, 0, 1, 0, 1, 1, 1, 1, 0, 1, 0, 1, 1, 0, 1, 1, 1, 1, 1, 0, 0, 0, 0, 1, 1, 1, 0, 0, 1, 1, 1, 0, 0, 0, 1, 0, 1, 1, 0, 1, 0, 1, 0, 1, 1, 0, 0, 0, 1, 0, 1, 1, 1, 0, 0, 1, 1, 1, 1, 1, 1, 0, 1, 1, 1, 1, 1, 1, 1, 0, 1, 1, 1, 0, 1, 0, 1, 1, 1, 0, 1, 0, 1, 0, 1, 1, 1, 0, 1, 1, 1, 1, 1, 1, 0, 0, 1, 1, 0, 1, 0, 1, 0, 1, 0, 1, 1, 1, 1, 1, 0, 1, 0, 0, 0, 1, 1, 1, 1, 1, 1, 0, 1, 0, 1, 0, 0, 1, 1, 1, 1, 1, 0, 1, 0, 0, 0, 1, 0, 1, 1, 1, 1, 1, 1, 1, 1, 1, 1, 1, 1, 1, 1, 1, 1, 1, 1, 0, 1, 1, 1, 1, 1, 1, 0, 1, 1, 1, 1, 1, 0, 0, 1, 0, 1, 1, 0, 1, 1, 0, 1, 0, 0, 0, 1, 1, 1, 0, 1, 1, 1, 0, 1, 0, 1, 1, 1, 1, 1, 0, 1, 1, 1, 0, 1, 0, 1, 1, 1, 0, 1, 1, 1, 0, 1, 1, 1, 1, 1, 1, 1, 0, 1, 0, 1, 1, 0, 1, 0, 1, 1, 0, 0, 1, 1, 0, 1, 1, 1, 1, 0, 1, 1, 1, 0, 1, 0, 0, 1, 0, 0, 1, 1, 1, 1, 0, 1, 1, 1, 1, 1, 1, 1, 0, 1, 0, 1, 1, 1, 0, 1, 1, 1, 1, 1, 0, 1, 1, 1, 1, 1, 0, 1, 0, 1, 1, 1, 0, 1, 1, 0, 1, 1, 1, 1, 0, 1, 1, 0, 1, 1, 1, 1, 1, 0, 1, 0, 0, 1, 0, 0, 1, 0, 0, 1, 0, 1, 1, 1, 1, 1, 1, 0, 0, 1, 1, 1, 1, 0, 0, 1, 0, 1, 1, 1, 0, 1, 1, 1, 0, 1, 1, 0, 1, 1, 1, 0, 1, 1, 1, 1, 0, 1, 1, 0, 1, 1, 0, 1, 1, 1, 1, 0, 1, 0, 1, 0, 1, 1, 1, 0, 0, 1, 1, 1, 0, 1, 1, 1, 1, 1, 1, 0, 1, 0, 0, 1, 1, 0, 1, 1, 1, 0, 1, 1, 1, 0, 0, 0, 1, 1, 1, 1, 1, 1, 1, 0, 0, 0, 1, 0, 1, 1, 1, 1, 0, 0, 1, 0, 1, 1, 0, 1, 1, 1, 1, 0, 1, 0, 0, 1, 1, 0, 0, 0, 0, 0, 1, 1, 0, 1, 1, 0, 1, 0, 1, 1, 1, 1, 0, 1, 1, 1, 0, 1, 1, 1, 1, 1, 1, 1, 1, 0, 1, 0, 1, 1, 0, 1, 0, 0, 1, 1, 1, 1, 1, 0, 1, 1, 1, 1, 0, 1, 0, 1, 0, 1, 0, 1, 1, 1, 1, 1, 0, 1, 0, 0, 1, 0, 0, 1, 1, 1, 1, 1, 1, 0, 1, 1, 1, 0, 1, 1, 1, 1, 0, 1, 0, 0, 0, 1, 1, 0, 0, 0, 0, 0, 0, 1, 0, 0, 0, 1, 0, 0, 0, 0, 1, 1, 1, 1, 1, 1, 1, 1, 1, 0, 0, 0]\n"
     ]
    }
   ],
   "source": [
    "km_type = KMeans(k, init_vec_type)\n",
    "km_type.fit(arr_location_type)\n",
    "# plot_cluster(myarray, km.get_center_node())\n",
    "\n",
    "print(km_type.pred(arr_location_type))"
   ]
  },
  {
   "cell_type": "code",
   "execution_count": 88,
   "metadata": {},
   "outputs": [
    {
     "name": "stdout",
     "output_type": "stream",
     "text": [
      "iteration 0\n",
      "iteration 1\n",
      "iteration 2\n",
      "iteration 3\n",
      "iteration 4\n",
      "iteration 5\n",
      "iteration 6\n",
      "found converge node\n",
      "[0, 1, 0, 0, 0, 0, 0, 0, 0, 0, 0, 0, 0, 0, 0, 0, 1, 0, 1, 0, 0, 0, 1, 1, 0, 1, 0, 0, 0, 0, 1, 0, 0, 1, 1, 0, 1, 0, 0, 0, 1, 0, 0, 1, 0, 1, 0, 0, 1, 1, 0, 0, 0, 0, 0, 0, 0, 0, 0, 0, 0, 0, 0, 0, 0, 1, 0, 0, 1, 1, 0, 1, 0, 0, 1, 0, 1, 0, 1, 0, 0, 0, 0, 1, 1, 0, 0, 0, 1, 0, 1, 0, 1, 0, 1, 0, 0, 0, 1, 1, 0, 1, 0, 1, 0, 0, 0, 1, 1, 0, 0, 1, 1, 0, 0, 1, 0, 0, 1, 0, 1, 1, 0, 0, 0, 1, 0, 0, 1, 0, 0, 1, 0, 0, 1, 0, 1, 0, 1, 1, 0, 1, 1, 0, 1, 0, 0, 1, 0, 0, 0, 0, 0, 1, 0, 0, 0, 0, 1, 1, 0, 0, 0, 1, 1, 0, 1, 0, 0, 0, 0, 0, 0, 0, 0, 0, 0, 0, 0, 1, 1, 1, 0, 0, 0, 0, 0, 0, 0, 1, 0, 0, 1, 1, 0, 0, 0, 0, 1, 1, 0, 0, 1, 1, 1, 0, 1, 1, 0, 1, 0, 0, 1, 0, 0, 0, 0, 1, 1, 0, 0, 1, 1, 1, 0, 1, 0, 1, 0, 0, 0, 1, 1, 0, 0, 0, 0, 0, 1, 1, 1, 1, 0, 0, 1, 1, 0, 0, 0, 1, 1, 1, 0, 0, 0, 0, 0, 0, 0, 0, 0, 0, 1, 0, 0, 1, 0, 0, 1, 0, 0, 0, 0, 0, 0, 0, 0, 1, 0, 1, 0, 0, 0, 0, 0, 0, 1, 0, 0, 1, 0, 0, 1, 0, 0, 0, 0, 1, 1, 0, 1, 1, 1, 1, 1, 1, 1, 1, 0, 0, 1, 0, 1, 1, 1, 0, 0, 1, 0, 0, 0, 0, 0, 0, 1, 0, 0, 1, 1, 1, 0, 0, 0, 1, 0, 0, 0, 0, 0, 1, 0, 0, 0, 0, 0, 0, 0, 0, 0, 0, 0, 1, 0, 0, 0, 1, 0, 0, 1, 0, 0, 0, 0, 0, 0, 1, 0, 1, 1, 0, 1, 0, 0, 0, 0, 0, 1, 0, 0, 0, 0, 0, 0, 0, 1, 0, 0, 1, 0, 0, 1, 0, 0, 0, 0, 0, 0, 0, 0, 1, 0, 0, 1, 0, 1, 0, 0, 0, 0, 0, 1, 0, 0, 0, 0, 0, 0, 0, 1, 1, 0, 0, 0, 1, 0, 0, 0, 1, 0, 0, 0, 0, 0, 0, 0, 1, 1, 0, 0, 1, 1, 1, 1, 0, 0, 0, 0, 0, 1, 0, 0, 0, 0, 0, 0, 1, 0, 0, 1, 1, 0, 0, 0, 1, 0, 0, 0, 0, 0, 0, 0, 1, 1, 1, 0, 1, 0, 0, 0, 0, 1, 0, 0, 0, 0, 1, 0, 0, 1, 0, 1, 1, 0, 1, 1, 0, 0, 0, 0, 1, 1, 1, 1, 1, 1, 1, 0, 0, 0, 1, 0, 1, 1, 0, 1, 0, 0, 0, 1, 0, 0, 0, 1, 0, 1, 1, 0, 1, 0, 0, 1, 0, 1, 0, 0, 0, 1, 0, 0, 1, 0, 0, 1, 1, 1, 1, 0, 1, 0, 1, 1, 1, 0, 0, 1, 1, 1, 1, 0, 0, 1, 0, 0, 0, 0, 0, 0, 0, 0, 1, 0, 0, 0, 0, 0, 0, 0, 1, 0, 1, 0, 1, 0, 0, 0, 1, 0, 1, 0, 1, 0, 0, 0, 0, 1, 0, 1, 1, 0, 1, 0, 0, 0, 0, 1, 0, 0, 0, 0, 1, 1, 1, 0, 0, 1, 0, 0, 0, 1, 0, 0, 0, 0, 0, 0, 0, 0, 0, 0, 1, 0, 0, 0, 1, 1, 0, 0, 0, 1, 1, 0, 0, 1, 0, 0, 1, 0, 0, 1, 0, 0, 1, 0, 1, 0, 0, 1, 1, 0, 0, 1, 1, 0, 0, 0, 0, 1, 1, 0, 1, 0, 0, 0, 0, 0, 0, 0, 0, 1, 1, 0, 1, 1, 1, 0, 1, 0, 1, 1, 0, 0, 0, 1, 1, 0, 1, 1, 1, 0, 0, 0, 1, 1, 0, 0, 1, 1, 1, 0, 0, 0, 1, 1, 0, 0, 1, 0, 0, 0, 1, 0, 1, 1, 0, 1, 1, 0, 0, 1, 0, 1, 0, 1, 1, 1, 0, 0, 0, 0, 1, 1, 1, 0, 1, 1, 0, 0, 0, 0, 0, 0, 0, 0, 0, 1, 0, 0, 1, 1, 0, 1, 0, 1, 0, 0, 0, 0, 0, 0, 0, 0, 0, 1, 0, 0, 1, 1, 0, 0, 1, 0, 1, 0, 0, 0, 1, 0, 0, 1, 0, 0, 0, 0, 0, 0, 1, 0, 1, 1, 0, 0, 1, 0, 0, 1, 0, 0, 0, 0, 0, 1, 1, 1, 1, 0, 0, 1, 0, 0, 1, 0, 0, 0, 0, 0, 0, 1, 0, 1, 0, 0, 1, 0, 1, 0, 1, 0, 1, 0, 1, 0, 0, 0, 1, 0, 0, 1, 1, 0, 1, 1, 1, 1, 0, 0, 0, 0, 0, 0, 0, 1, 0, 0, 0, 1, 0, 0, 0, 0, 0, 1, 0, 0, 1, 0, 0, 0, 0, 0, 0, 0, 0, 1, 1, 1, 0, 0, 0, 0, 0, 0, 1, 0, 1, 1, 0, 0, 0, 0, 1, 0, 0, 0, 0, 0, 0, 0, 0, 0, 0, 1, 0, 0, 0, 0, 1, 0, 0, 1, 1, 1, 0, 0, 0, 1, 0, 1, 0, 0, 1, 0, 1, 1, 0, 0, 0, 0, 1, 0, 0, 1, 1, 1, 0, 0, 1, 0, 0, 1, 0, 0, 0, 1, 0, 0, 0, 0, 0, 0, 0, 0, 0, 0, 0, 0, 0, 1, 0, 1, 1, 0, 0, 1, 0, 0, 1, 1, 0, 0, 0, 0, 0, 1, 0, 1, 1, 1, 1, 0, 1, 0, 0, 0, 0, 0, 0, 0, 0, 1, 0, 0, 1, 1, 1, 0, 0, 0, 0, 0, 0, 1, 0, 1, 0, 0, 1, 1, 1, 1, 0, 0, 0, 0, 0, 0, 0, 1, 1, 1, 1, 1, 1, 0, 1, 0, 0, 0, 0, 1, 0, 0, 1, 0, 1, 0, 0, 0, 1, 1, 0, 0, 1, 0, 0, 1, 1, 0, 1, 1, 0, 0, 0, 0, 0, 0, 0, 1, 0, 0, 0, 0, 0, 0, 0, 1, 1, 1, 0, 0, 0, 1, 0, 0, 0, 0, 1, 0, 0, 0, 1, 1, 0, 1, 1, 0, 0, 1, 1, 0, 0, 0, 0, 0, 1, 1, 0, 0, 0, 0, 0, 1, 0, 1, 1, 0, 0, 0, 0, 0, 0, 1, 1, 0, 0, 1, 0, 0, 1, 0, 0, 1, 1, 0, 0, 0, 0, 0, 1, 1, 0, 1, 0, 0, 0, 0, 0, 0, 1, 0, 1, 0, 0, 1, 0, 1, 0, 1, 0, 0, 0, 0, 0, 1, 0, 1, 0, 0, 0, 0, 0, 0, 0, 0, 0, 0, 1, 1, 1, 0, 0, 1, 0, 1, 0, 1, 0, 1, 0, 1, 0, 0, 0, 0, 1, 1, 0, 0, 1, 0, 0, 0, 0, 0, 0, 0, 0, 1, 1, 0, 0, 0, 0, 1, 0, 0, 1, 0, 0, 0, 0, 0, 0, 1, 0, 1, 0, 0, 1, 1, 1, 1, 0, 0, 0, 0, 0, 0, 1, 0, 0, 0, 0, 0, 0, 1, 0, 0, 1, 0, 0, 1, 1, 1, 1, 0, 0, 0, 1, 1, 1, 1, 0, 0, 0, 0, 1, 0, 1, 1, 0, 0, 0, 0, 0, 1, 0, 0, 0, 0, 0, 1, 0, 0, 1, 0, 0, 1, 0, 0, 0, 0, 0, 1, 1, 0, 0, 0, 0, 0, 0, 0, 0, 0, 1, 0, 0, 0]\n"
     ]
    }
   ],
   "source": [
    "km_duration = KMeans(k, init_vec_duration)\n",
    "km_duration.fit(arr_duration)\n",
    "# plot_cluster(myarray, km.get_center_node())\n",
    "\n",
    "print(km_duration.pred(arr_duration))"
   ]
  },
  {
   "cell_type": "code",
   "execution_count": 89,
   "metadata": {},
   "outputs": [
    {
     "name": "stdout",
     "output_type": "stream",
     "text": [
      "iteration 0\n",
      "iteration 1\n",
      "iteration 2\n",
      "found converge node\n",
      "[0, 1, 0, 0, 1, 0, 0, 1, 0, 0, 1, 1, 1, 0, 0, 0, 1, 0, 1, 1, 1, 1, 1, 1, 1, 0, 0, 1, 0, 0, 1, 1, 1, 1, 0, 1, 1, 1, 1, 1, 1, 1, 1, 1, 0, 0, 1, 1, 0, 0, 1, 1, 0, 0, 1, 1, 0, 1, 0, 0, 0, 1, 0, 0, 1, 1, 1, 1, 1, 0, 0, 1, 1, 0, 1, 1, 1, 1, 1, 1, 1, 1, 0, 0, 1, 1, 0, 1, 1, 1, 0, 1, 1, 0, 1, 0, 0, 1, 1, 1, 1, 1, 0, 1, 0, 1, 0, 0, 1, 0, 1, 1, 0, 1, 1, 0, 0, 1, 1, 0, 0, 1, 0, 0, 0, 1, 0, 0, 1, 0, 0, 0, 1, 1, 0, 0, 0, 1, 0, 0, 1, 1, 0, 0, 1, 1, 1, 0, 0, 1, 0, 1, 0, 0, 1, 0, 0, 1, 1, 1, 1, 1, 0, 1, 1, 0, 1, 1, 1, 0, 1, 1, 0, 0, 1, 0, 1, 0, 0, 1, 0, 1, 0, 0, 0, 1, 0, 1, 0, 1, 0, 1, 1, 1, 0, 1, 0, 1, 1, 0, 1, 1, 0, 1, 1, 0, 1, 1, 1, 1, 1, 0, 0, 1, 0, 1, 0, 0, 0, 1, 0, 1, 0, 1, 1, 0, 0, 1, 0, 1, 1, 1, 0, 1, 1, 0, 1, 1, 0, 1, 1, 0, 1, 0, 1, 0, 1, 0, 0, 0, 1, 1, 1, 0, 0, 1, 0, 0, 0, 0, 1, 0, 1, 0, 1, 1, 0, 0, 1, 1, 0, 1, 0, 1, 0, 0, 0, 0, 0, 1, 0, 1, 0, 0, 0, 0, 0, 1, 1, 0, 1, 1, 1, 0, 1, 1, 1, 1, 0, 0, 1, 1, 1, 1, 0, 1, 0, 1, 1, 0, 1, 0, 1, 1, 0, 1, 1, 1, 1, 1, 1, 0, 1, 0, 1, 0, 0, 1, 1, 1, 1, 0, 1, 0, 1, 1, 0, 0, 0, 0, 1, 0, 0, 0, 0, 0, 1, 0, 1, 1, 0, 1, 1, 0, 1, 1, 1, 0, 1, 0, 1, 0, 0, 0, 1, 1, 1, 0, 0, 1, 1, 1, 1, 1, 1, 1, 1, 1, 1, 1, 0, 0, 0, 0, 1, 0, 0, 1, 0, 0, 1, 1, 1, 1, 0, 1, 0, 1, 0, 1, 0, 1, 1, 1, 0, 1, 0, 1, 1, 1, 0, 0, 1, 1, 1, 0, 1, 1, 1, 0, 0, 0, 1, 1, 1, 0, 1, 0, 0, 1, 1, 0, 1, 0, 0, 0, 1, 1, 0, 1, 0, 1, 1, 0, 0, 0, 1, 1, 0, 1, 1, 1, 0, 0, 0, 1, 1, 1, 1, 1, 1, 1, 0, 1, 0, 1, 1, 0, 1, 0, 0, 1, 1, 1, 1, 1, 1, 0, 1, 0, 1, 0, 0, 1, 1, 0, 1, 1, 0, 0, 1, 1, 0, 1, 1, 0, 1, 1, 0, 1, 1, 1, 1, 0, 0, 1, 1, 1, 0, 1, 0, 1, 1, 0, 0, 0, 1, 0, 1, 0, 1, 1, 1, 0, 0, 0, 0, 1, 1, 0, 1, 1, 1, 1, 0, 0, 1, 0, 0, 1, 0, 1, 0, 0, 1, 0, 1, 1, 1, 1, 0, 1, 0, 0, 1, 1, 1, 0, 0, 0, 1, 1, 1, 1, 0, 1, 0, 0, 1, 1, 0, 0, 1, 0, 1, 0, 1, 0, 1, 1, 1, 1, 0, 0, 1, 1, 0, 1, 0, 1, 1, 1, 1, 1, 0, 1, 1, 1, 1, 0, 1, 1, 0, 1, 1, 0, 1, 1, 1, 1, 1, 1, 1, 1, 0, 1, 0, 1, 0, 0, 0, 1, 1, 0, 1, 0, 0, 0, 1, 0, 1, 0, 0, 1, 0, 0, 1, 0, 0, 1, 1, 1, 0, 0, 1, 0, 0, 1, 0, 1, 0, 0, 0, 0, 0, 1, 0, 0, 0, 1, 1, 1, 1, 1, 1, 0, 1, 1, 1, 0, 0, 1, 1, 0, 0, 1, 1, 0, 1, 1, 0, 0, 0, 0, 1, 0, 1, 0, 1, 1, 0, 1, 1, 1, 0, 1, 0, 1, 0, 0, 1, 1, 0, 0, 0, 0, 1, 1, 0, 0, 1, 1, 1, 0, 0, 1, 1, 1, 0, 1, 1, 0, 0, 0, 1, 1, 0, 0, 1, 1, 0, 0, 1, 1, 1, 0, 0, 0, 0, 1, 1, 0, 1, 1, 1, 0, 1, 0, 1, 1, 1, 0, 0, 0, 1, 1, 0, 1, 1, 0, 1, 0, 1, 0, 1, 1, 0, 1, 0, 1, 1, 0, 1, 0, 0, 1, 1, 0, 0, 0, 0, 1, 1, 1, 0, 0, 1, 0, 0, 0, 0, 0, 0, 0, 0, 0, 0, 0, 0, 1, 0, 1, 1, 0, 0, 0, 0, 0, 0, 1, 1, 0, 0, 1, 1, 1, 1, 1, 0, 0, 0, 0, 0, 0, 0, 1, 1, 0, 1, 1, 1, 0, 0, 0, 1, 1, 1, 0, 1, 0, 0, 0, 1, 0, 1, 0, 0, 1, 1, 1, 1, 1, 0, 0, 1, 1, 0, 1, 0, 0, 0, 0, 0, 1, 1, 1, 1, 1, 0, 1, 0, 0, 0, 1, 0, 0, 1, 0, 1, 0, 1, 0, 1, 0, 0, 1, 1, 0, 1, 1, 0, 1, 0, 0, 0, 1, 0, 1, 1, 1, 1, 1, 0, 0, 0, 1, 1, 1, 1, 1, 1, 0, 0, 0, 0, 0, 0, 1, 1, 1, 1, 1, 0, 1, 1, 0, 1, 1, 0, 0, 1, 0, 1, 0, 0, 0, 0, 0, 1, 0, 0, 0, 0, 1, 0, 0, 0, 1, 0, 0, 1, 0, 1, 1, 0, 1, 1, 0, 1, 1, 1, 0, 1, 0, 1, 1, 1, 0, 0, 1, 1, 0, 0, 1, 1, 0, 1, 1, 1, 0, 0, 0, 1, 0, 0, 1, 0, 1, 1, 0, 0, 0, 1, 0, 1, 1, 1, 1, 0, 1, 1, 1, 0, 0, 0, 0, 1, 0, 0, 1, 0, 1, 1, 0, 0, 1, 0, 0, 1, 0, 0, 0, 1, 0, 0, 1, 1, 0, 1, 1, 0, 1, 1, 0, 0, 1, 0, 1, 1, 0, 0, 0, 1, 0, 1, 0, 1, 1, 0, 0, 1, 0, 1, 0, 1, 1, 0, 1, 1, 1, 1, 1, 0, 1, 0, 0, 1, 0, 0, 1, 0, 0, 1, 0, 1, 1, 1, 0, 0, 1, 0, 0, 1, 1, 1, 1, 1, 0, 1, 0, 1, 1, 1, 0, 1, 1, 1, 0, 1, 1, 0, 0, 1, 0, 0, 1, 1, 0, 0, 0, 1, 1, 0, 1, 0, 0, 1, 0, 1, 1, 0, 1, 0, 1, 0, 0, 0, 1, 0, 0, 1, 1, 1, 0, 1, 0, 0, 1, 1, 1, 0, 1, 0, 0, 0, 1, 0, 1, 1, 0, 0, 1, 1, 1, 0, 0, 0, 1, 0, 0, 0, 0, 1, 1, 0, 0, 0, 0, 0, 1, 1, 1, 0, 0, 0, 1, 0, 1, 1, 0, 1, 0, 1, 1, 0, 1, 0, 0, 0, 0, 0, 0, 0, 0, 0, 0, 1, 1, 1, 1, 0, 1, 0, 1, 1, 0, 1, 0, 1, 1, 0, 0, 1, 1, 0, 1, 1, 1, 0, 1, 0, 0, 0, 0, 0, 0, 0, 0, 0, 1, 1, 1, 1, 1, 0, 1, 0, 1, 1, 0, 1, 0, 1, 0, 1, 0, 1, 1, 0, 0, 1, 0, 1, 0, 0, 1, 0, 0, 1, 1, 1, 0, 1, 1, 0, 1, 0, 0, 0, 1, 1, 0, 1, 0, 1, 0, 0, 0, 0, 1, 0, 0, 0, 0, 0, 0, 1, 0, 0, 0, 1, 0, 0, 0, 0, 0, 1, 1, 1, 0, 0, 0, 1, 0, 0, 0, 0]\n"
     ]
    }
   ],
   "source": [
    "km_freq = KMeans(k, init_vec_freq)\n",
    "km_freq.fit(arr_freq)\n",
    "# plot_cluster(myarray, km.get_center_node())\n",
    "\n",
    "print(km_freq.pred(arr_freq))"
   ]
  },
  {
   "cell_type": "code",
   "execution_count": 93,
   "metadata": {},
   "outputs": [],
   "source": [
    "def get_genderage_pair(df):\n",
    "    genderage_pair = []\n",
    "    for index, row in df.iterrows():\n",
    "        pair = []\n",
    "        pair.append(row['Gender'])\n",
    "        pair.append(row['Age'])\n",
    "        genderage_pair.append(pair)\n",
    "    return genderage_pair\n",
    "\n",
    "genderage_pair = get_genderage_pair(df_test)"
   ]
  },
  {
   "cell_type": "code",
   "execution_count": 94,
   "metadata": {},
   "outputs": [],
   "source": [
    "def split_pair(pair, pres):\n",
    "    group1 = []\n",
    "    group0 = []\n",
    "    for i,pre in enumerate(pres):\n",
    "        if pre == 1:\n",
    "            group1.append(pair[i])\n",
    "        else:\n",
    "            group0.append(pair[i])\n",
    "    return group1,group0"
   ]
  },
  {
   "cell_type": "code",
   "execution_count": 116,
   "metadata": {},
   "outputs": [],
   "source": [
    "def plot_cluster(x, center_node, color,plt):\n",
    "#     plt.figure(figsize=(20,50))\n",
    "    plt.scatter(x[:, 0], x[:, 1], s=20, c=color)\n",
    "    plt.scatter(center_node[:, 0], center_node[:, 1], c='black', s=200, alpha=0.5)\n",
    "#     plt.show()\n",
    "    return plt"
   ]
  },
  {
   "cell_type": "code",
   "execution_count": 141,
   "metadata": {},
   "outputs": [],
   "source": [
    "def make_plot(pair,preds,plt,i):\n",
    "    group1,group0 = split_pair(pair, preds)\n",
    "    plt.figure(figsize=(10,25))\n",
    "    plt = plot_cluster(np.asarray(group1), init_vec_type,'g',plt)\n",
    "    plt = plot_cluster(np.asarray(group0), init_vec_type,'r',plt)\n",
    "    plt.savefig('test%s.png'%i)\n",
    "    i += 1\n",
    "    plt.show()"
   ]
  },
  {
   "cell_type": "code",
   "execution_count": 145,
   "metadata": {},
   "outputs": [
    {
     "data": {
      "image/png": "[encoded data removed]",
      "text/plain": [
       "<Figure size 720x1800 with 1 Axes>"
      ]
     },
     "metadata": {
      "needs_background": "light"
     },
     "output_type": "display_data"
    }
   ],
   "source": [
    "import matplotlib.pyplot as plt\n",
    "i = 0\n",
    "make_plot(genderage_pair,km_type.pred(arr_location_type),plt,i)\n",
    "i += 1"
   ]
  },
  {
   "cell_type": "code",
   "execution_count": 146,
   "metadata": {},
   "outputs": [
    {
     "data": {
      "image/png": "[encoded data removed]",
      "text/plain": [
       "<Figure size 720x1800 with 1 Axes>"
      ]
     },
     "metadata": {
      "needs_background": "light"
     },
     "output_type": "display_data"
    }
   ],
   "source": [
    "import matplotlib.pyplot as plt\n",
    "make_plot(genderage_pair,km_duration.pred(arr_duration),plt,i)"
   ]
  },
  {
   "cell_type": "code",
   "execution_count": 147,
   "metadata": {},
   "outputs": [
    {
     "data": {
      "image/png": "[encoded data removed]",
      "text/plain": [
       "<Figure size 720x1800 with 1 Axes>"
      ]
     },
     "metadata": {
      "needs_background": "light"
     },
     "output_type": "display_data"
    }
   ],
   "source": [
    "i += 1\n",
    "import matplotlib.pyplot as plt\n",
    "make_plot(genderage_pair,km_freq.pred(arr_freq),plt,i)"
   ]
  },
  {
   "cell_type": "code",
   "execution_count": 161,
   "metadata": {},
   "outputs": [
    {
     "data": {
      "text/plain": [
       "6"
      ]
     },
     "execution_count": 161,
     "metadata": {},
     "output_type": "execute_result"
    }
   ],
   "source": [
    "from sklearn.cluster import SpectralClustering\n",
    "\n",
    "clustering_freq = SpectralClustering(n_clusters=2,assign_labels=\"discretize\",random_state=0).fit(arr_freq)\n",
    "sum(clustering_freq.labels_)"
   ]
  },
  {
   "cell_type": "code",
   "execution_count": 162,
   "metadata": {},
   "outputs": [
    {
     "data": {
      "text/plain": [
       "536"
      ]
     },
     "execution_count": 162,
     "metadata": {},
     "output_type": "execute_result"
    }
   ],
   "source": [
    "from sklearn.cluster import SpectralClustering\n",
    "\n",
    "clustering_type = SpectralClustering(n_clusters=2,assign_labels=\"discretize\",random_state=0).fit(arr_location_type)\n",
    "sum(clustering_type.labels_)"
   ]
  },
  {
   "cell_type": "code",
   "execution_count": 163,
   "metadata": {},
   "outputs": [
    {
     "name": "stderr",
     "output_type": "stream",
     "text": [
      "/usr/local/lib/python3.7/site-packages/sklearn/manifold/_spectral_embedding.py:236: UserWarning: Graph is not fully connected, spectral embedding may not work as expected.\n",
      "  warnings.warn(\"Graph is not fully connected, spectral embedding\"\n",
      "/usr/local/lib/python3.7/site-packages/sklearn/cluster/_spectral.py:99: RuntimeWarning: invalid value encountered in true_divide\n",
      "  vectors = vectors / np.sqrt((vectors ** 2).sum(axis=1))[:, np.newaxis]\n"
     ]
    },
    {
     "data": {
      "text/plain": [
       "0"
      ]
     },
     "execution_count": 163,
     "metadata": {},
     "output_type": "execute_result"
    }
   ],
   "source": [
    "from sklearn.cluster import SpectralClustering\n",
    "\n",
    "clustering_duration = SpectralClustering(n_clusters=2,assign_labels=\"discretize\",random_state=0).fit(arr_duration)\n",
    "sum(clustering_duration.labels_)"
   ]
  },
  {
   "cell_type": "code",
   "execution_count": 164,
   "metadata": {},
   "outputs": [
    {
     "name": "stdout",
     "output_type": "stream",
     "text": [
      "[1 0 0 ... 1 1 2]\n"
     ]
    }
   ],
   "source": [
    "from sklearn.cluster import KMeans\n",
    "model = KMeans(n_clusters=3)\n",
    "model.fit(arr_location_type)\n",
    "all_predictions = model.predict(arr_location_type)\n",
    "print(all_predictions)"
   ]
  },
  {
   "cell_type": "code",
   "execution_count": 173,
   "metadata": {},
   "outputs": [],
   "source": [
    "location_types = ['Arts and culture', 'Car journey', 'Home', 'Other', 'Public spaces', 'Transport', 'Retail and hospitality', 'Study', 'Sport and recreation', 'Work']"
   ]
  },
  {
   "cell_type": "code",
   "execution_count": 185,
   "metadata": {},
   "outputs": [],
   "source": [
    "pred0 = []\n",
    "pred1 = []\n",
    "pred2 = []\n",
    "genderage0 = []\n",
    "genderage1 = []\n",
    "genderage2 = []\n",
    "for i,pre in enumerate(all_predictions):\n",
    "    if pre == 0:\n",
    "        l = arr_location_type[i]\n",
    "        lr0 = [lt for j,lt in enumerate(location_types) if l[j] == 1]\n",
    "        if lr0 not in pred0:\n",
    "            pred0.append(lr0)\n",
    "        if genderage_pair[i] not in genderage0:\n",
    "            genderage0.append(genderage_pair[i])\n",
    "        \n",
    "    elif pre == 1:\n",
    "        l = arr_location_type[i]\n",
    "        lr1 = [lt for j,lt in enumerate(location_types) if l[j] == 1]\n",
    "        if lr1 not in pred1:\n",
    "            pred1.append(lr1)\n",
    "        if genderage_pair[i] not in genderage1:\n",
    "            genderage1.append(genderage_pair[i])\n",
    "    else:\n",
    "        l = arr_location_type[i]\n",
    "        lr2 = [lt for j,lt in enumerate(location_types) if l[j] == 1]\n",
    "        if lr2 not in pred2:\n",
    "            pred2.append(lr2)\n",
    "        if genderage_pair[i] not in genderage2:\n",
    "            genderage2.append(genderage_pair[i])"
   ]
  },
  {
   "cell_type": "code",
   "execution_count": 193,
   "metadata": {},
   "outputs": [
    {
     "data": {
      "image/png": "[encoded data removed]",
      "text/plain": [
       "<Figure size 720x1800 with 1 Axes>"
      ]
     },
     "metadata": {
      "needs_background": "light"
     },
     "output_type": "display_data"
    }
   ],
   "source": [
    "import matplotlib.pyplot as plt\n",
    "plt.figure(figsize=(10,25))\n",
    "plt = plot_cluster(np.asarray(genderage0), init_vec_type,'g',plt)\n",
    "plt = plot_cluster(np.asarray(genderage1), init_vec_type,'r',plt)\n",
    "plt = plot_cluster(np.asarray(genderage2), init_vec_type,'y',plt)\n",
    "plt.savefig('test0.png')\n",
    "plt.show()"
   ]
  },
  {
   "cell_type": "code",
   "execution_count": 192,
   "metadata": {},
   "outputs": [
    {
     "data": {
      "text/plain": [
       "<Figure size 432x288 with 0 Axes>"
      ]
     },
     "metadata": {},
     "output_type": "display_data"
    }
   ],
   "source": []
  },
  {
   "cell_type": "code",
   "execution_count": 181,
   "metadata": {},
   "outputs": [
    {
     "name": "stdout",
     "output_type": "stream",
     "text": [
      "[['Home', 'Transport', 'Retail and hospitality'], ['Car journey', 'Home', 'Retail and hospitality', 'Sport and recreation'], ['Home', 'Public spaces', 'Retail and hospitality'], ['Arts and culture', 'Home', 'Retail and hospitality', 'Study', 'Work'], ['Home', 'Retail and hospitality'], ['Home', 'Transport', 'Retail and hospitality', 'Sport and recreation'], ['Arts and culture', 'Home', 'Public spaces', 'Transport', 'Retail and hospitality'], ['Home', 'Transport', 'Retail and hospitality', 'Study', 'Sport and recreation'], ['Home', 'Transport', 'Retail and hospitality', 'Work'], ['Home', 'Retail and hospitality', 'Sport and recreation'], ['Car journey', 'Home', 'Transport', 'Retail and hospitality', 'Study', 'Sport and recreation'], ['Home', 'Transport', 'Retail and hospitality', 'Study'], ['Home', 'Retail and hospitality', 'Study'], ['Arts and culture', 'Home', 'Transport', 'Retail and hospitality'], ['Home', 'Public spaces', 'Transport', 'Retail and hospitality'], ['Car journey', 'Home', 'Transport', 'Retail and hospitality', 'Study'], ['Car journey', 'Home', 'Public spaces', 'Transport', 'Retail and hospitality', 'Study', 'Work'], ['Arts and culture', 'Home', 'Public spaces', 'Transport', 'Retail and hospitality', 'Study'], ['Home', 'Retail and hospitality', 'Work'], ['Home', 'Transport', 'Retail and hospitality', 'Study', 'Work'], ['Car journey', 'Home', 'Retail and hospitality'], ['Car journey', 'Home', 'Retail and hospitality', 'Sport and recreation', 'Work'], ['Car journey', 'Home', 'Transport', 'Retail and hospitality'], ['Arts and culture', 'Car journey', 'Home', 'Retail and hospitality'], ['Arts and culture', 'Home', 'Transport', 'Retail and hospitality', 'Work'], ['Car journey', 'Home', 'Transport', 'Retail and hospitality', 'Work'], ['Home', 'Retail and hospitality', 'Study', 'Work'], ['Home', 'Public spaces', 'Retail and hospitality', 'Sport and recreation', 'Work'], ['Arts and culture', 'Home', 'Public spaces', 'Retail and hospitality'], ['Car journey', 'Home', 'Retail and hospitality', 'Study'], ['Arts and culture', 'Home', 'Retail and hospitality'], ['Home', 'Retail and hospitality', 'Sport and recreation', 'Work'], ['Home', 'Transport', 'Retail and hospitality', 'Sport and recreation', 'Work'], ['Arts and culture', 'Home', 'Retail and hospitality', 'Sport and recreation'], ['Home', 'Public spaces', 'Transport', 'Retail and hospitality', 'Study'], ['Home', 'Public spaces', 'Retail and hospitality', 'Work'], ['Home', 'Public spaces', 'Transport', 'Retail and hospitality', 'Work'], ['Car journey', 'Home', 'Transport', 'Retail and hospitality', 'Sport and recreation', 'Work'], ['Arts and culture', 'Car journey', 'Home', 'Transport', 'Retail and hospitality', 'Study', 'Work'], ['Car journey', 'Home', 'Public spaces', 'Transport', 'Retail and hospitality', 'Sport and recreation'], ['Car journey', 'Home', 'Transport', 'Retail and hospitality', 'Study', 'Work'], ['Arts and culture', 'Car journey', 'Home', 'Transport', 'Retail and hospitality'], ['Car journey', 'Home', 'Retail and hospitality', 'Work'], ['Car journey', 'Home', 'Public spaces', 'Transport', 'Retail and hospitality', 'Work'], ['Car journey', 'Home', 'Transport', 'Retail and hospitality', 'Sport and recreation'], ['Car journey', 'Home', 'Public spaces', 'Retail and hospitality', 'Work'], ['Car journey', 'Home', 'Retail and hospitality', 'Study', 'Sport and recreation'], ['Car journey', 'Home', 'Public spaces', 'Transport', 'Retail and hospitality'], ['Arts and culture', 'Car journey', 'Home', 'Transport', 'Retail and hospitality', 'Sport and recreation'], ['Home', 'Public spaces', 'Retail and hospitality', 'Sport and recreation'], ['Car journey', 'Home', 'Public spaces', 'Transport', 'Retail and hospitality', 'Study'], ['Arts and culture', 'Car journey', 'Home', 'Transport', 'Retail and hospitality', 'Study'], ['Home', 'Public spaces', 'Retail and hospitality', 'Study'], ['Car journey', 'Home', 'Retail and hospitality', 'Study', 'Work'], ['Arts and culture', 'Home', 'Public spaces', 'Transport', 'Retail and hospitality', 'Sport and recreation'], ['Arts and culture', 'Car journey', 'Home', 'Public spaces', 'Transport', 'Retail and hospitality'], ['Home', 'Public spaces', 'Transport', 'Retail and hospitality', 'Sport and recreation'], ['Car journey', 'Home', 'Public spaces', 'Retail and hospitality']]\n",
      "[['Home'], ['Car journey', 'Home', 'Public spaces', 'Transport', 'Study'], ['Home', 'Transport', 'Work'], ['Home', 'Transport', 'Study', 'Work'], ['Home', 'Transport', 'Study'], ['Home', 'Work'], ['Home', 'Study'], ['Home', 'Transport', 'Sport and recreation'], ['Home', 'Public spaces'], ['Home', 'Public spaces', 'Transport'], ['Arts and culture', 'Home', 'Transport', 'Sport and recreation'], ['Home', 'Public spaces', 'Transport', 'Work'], ['Home', 'Public spaces', 'Transport', 'Sport and recreation'], ['Car journey', 'Home', 'Work'], ['Home', 'Sport and recreation'], ['Car journey', 'Home', 'Public spaces', 'Study'], ['Home', 'Transport', 'Sport and recreation', 'Work'], ['Home', 'Other', 'Work'], ['Home', 'Study', 'Work'], ['Arts and culture', 'Home'], ['Arts and culture', 'Home', 'Transport'], ['Home', 'Public spaces', 'Work'], ['Car journey', 'Home', 'Transport', 'Study'], ['Home', 'Sport and recreation', 'Work'], ['Home', 'Public spaces', 'Sport and recreation'], ['Public spaces'], ['Car journey', 'Home', 'Transport', 'Study', 'Work'], ['Home', 'Public spaces', 'Transport', 'Study'], ['Home', 'Transport'], ['Arts and culture', 'Home', 'Public spaces', 'Transport'], ['Home', 'Public spaces', 'Transport', 'Sport and recreation', 'Work'], ['Home', 'Other', 'Sport and recreation', 'Work'], ['Car journey', 'Home', 'Public spaces', 'Transport', 'Work'], ['Home', 'Transport', 'Study', 'Sport and recreation'], ['Home', 'Transport', 'Study', 'Sport and recreation', 'Work'], ['Home', 'Public spaces', 'Transport', 'Study', 'Work'], ['Car journey', 'Home', 'Sport and recreation'], ['Car journey', 'Home', 'Sport and recreation', 'Work'], ['Arts and culture', 'Car journey', 'Home'], ['Car journey', 'Home', 'Public spaces'], ['Car journey', 'Home', 'Transport', 'Sport and recreation', 'Work'], ['Car journey', 'Home', 'Transport', 'Sport and recreation'], ['Car journey', 'Home', 'Study', 'Work'], ['Arts and culture', 'Home', 'Transport', 'Work'], ['Arts and culture', 'Car journey', 'Home', 'Work'], ['Car journey', 'Home', 'Study'], ['Home', 'Public spaces', 'Study', 'Sport and recreation'], ['Car journey', 'Home', 'Transport', 'Study', 'Sport and recreation', 'Work'], ['Arts and culture', 'Home', 'Transport', 'Study'], ['Car journey', 'Home', 'Public spaces', 'Work'], ['Home', 'Study', 'Sport and recreation']]\n",
      "[['Home', 'Other', 'Transport', 'Retail and hospitality', 'Work'], ['Home', 'Other'], ['Home', 'Other', 'Transport', 'Retail and hospitality'], ['Home', 'Other', 'Public spaces'], ['Home', 'Other', 'Public spaces', 'Retail and hospitality', 'Study'], ['Home', 'Other', 'Public spaces', 'Transport', 'Study', 'Work'], ['Home', 'Other', 'Transport'], ['Home', 'Other', 'Retail and hospitality'], ['Home', 'Other', 'Transport', 'Retail and hospitality', 'Study', 'Work'], ['Home', 'Other', 'Transport', 'Retail and hospitality', 'Study'], ['Home', 'Other', 'Public spaces', 'Retail and hospitality'], ['Home', 'Other', 'Transport', 'Work'], ['Home', 'Other', 'Public spaces', 'Retail and hospitality', 'Study', 'Sport and recreation'], ['Arts and culture', 'Car journey', 'Home', 'Other'], ['Home', 'Other', 'Study', 'Sport and recreation'], ['Home', 'Other', 'Public spaces', 'Retail and hospitality', 'Sport and recreation'], ['Home', 'Other', 'Transport', 'Retail and hospitality', 'Sport and recreation'], ['Car journey', 'Home', 'Other', 'Public spaces', 'Transport', 'Sport and recreation', 'Work'], ['Arts and culture', 'Home', 'Other', 'Transport', 'Retail and hospitality'], ['Home', 'Other', 'Public spaces', 'Transport'], ['Car journey', 'Home', 'Other', 'Public spaces', 'Transport', 'Retail and hospitality'], ['Home', 'Other', 'Transport', 'Study', 'Work'], ['Home', 'Other', 'Public spaces', 'Transport', 'Study'], ['Home', 'Other', 'Public spaces', 'Transport', 'Retail and hospitality', 'Study', 'Sport and recreation'], ['Arts and culture', 'Home', 'Other', 'Transport', 'Retail and hospitality', 'Sport and recreation'], ['Car journey', 'Home', 'Other', 'Retail and hospitality', 'Study'], ['Other', 'Transport', 'Retail and hospitality'], ['Home', 'Other', 'Retail and hospitality', 'Study'], ['Home', 'Other', 'Public spaces', 'Transport', 'Retail and hospitality'], ['Home', 'Other', 'Sport and recreation'], ['Car journey', 'Home', 'Other', 'Retail and hospitality', 'Work'], ['Home', 'Other', 'Public spaces', 'Transport', 'Retail and hospitality', 'Sport and recreation', 'Work'], ['Arts and culture', 'Home', 'Other', 'Retail and hospitality', 'Sport and recreation'], ['Car journey', 'Home', 'Other', 'Transport'], ['Home', 'Other', 'Transport', 'Study', 'Sport and recreation'], ['Home', 'Other', 'Retail and hospitality', 'Work'], ['Arts and culture', 'Home', 'Other', 'Retail and hospitality'], ['Home', 'Other', 'Public spaces', 'Transport', 'Retail and hospitality', 'Study'], ['Arts and culture', 'Home', 'Other', 'Transport', 'Retail and hospitality', 'Study'], ['Car journey', 'Home', 'Other', 'Transport', 'Retail and hospitality'], ['Car journey', 'Home', 'Other', 'Retail and hospitality'], ['Home', 'Other', 'Transport', 'Retail and hospitality', 'Study', 'Sport and recreation'], ['Car journey', 'Home', 'Other', 'Public spaces', 'Retail and hospitality'], ['Car journey', 'Home', 'Other', 'Transport', 'Study'], ['Car journey', 'Home', 'Other'], ['Home', 'Other', 'Public spaces', 'Transport', 'Retail and hospitality', 'Sport and recreation'], ['Car journey', 'Home', 'Other', 'Public spaces'], ['Home', 'Other', 'Transport', 'Sport and recreation'], ['Home', 'Other', 'Public spaces', 'Transport', 'Retail and hospitality', 'Study', 'Sport and recreation', 'Work'], ['Car journey', 'Home', 'Other', 'Work'], ['Arts and culture', 'Home', 'Other', 'Retail and hospitality', 'Study'], ['Home', 'Other', 'Transport', 'Study'], ['Arts and culture', 'Home', 'Other', 'Public spaces', 'Transport', 'Study'], ['Car journey', 'Home', 'Other', 'Public spaces', 'Transport', 'Work'], ['Home', 'Other', 'Public spaces', 'Study'], ['Car journey', 'Home', 'Other', 'Transport', 'Retail and hospitality', 'Study', 'Sport and recreation'], ['Home', 'Other', 'Transport', 'Study', 'Sport and recreation', 'Work'], ['Other'], ['Car journey', 'Home', 'Other', 'Sport and recreation', 'Work'], ['Car journey', 'Home', 'Other', 'Public spaces', 'Transport'], ['Car journey', 'Home', 'Other', 'Public spaces', 'Transport', 'Retail and hospitality', 'Sport and recreation'], ['Home', 'Other', 'Retail and hospitality', 'Sport and recreation'], ['Arts and culture', 'Car journey', 'Home', 'Other', 'Transport', 'Retail and hospitality', 'Study', 'Work'], ['Car journey', 'Home', 'Other', 'Transport', 'Study', 'Work'], ['Car journey', 'Home', 'Other', 'Transport', 'Work'], ['Car journey', 'Home', 'Other', 'Transport', 'Retail and hospitality', 'Sport and recreation'], ['Arts and culture', 'Car journey', 'Home', 'Other', 'Work'], ['Home', 'Other', 'Retail and hospitality', 'Sport and recreation', 'Work'], ['Car journey', 'Home', 'Other', 'Sport and recreation'], ['Car journey', 'Home', 'Other', 'Transport', 'Retail and hospitality', 'Sport and recreation', 'Work'], ['Arts and culture', 'Car journey', 'Home', 'Other', 'Transport', 'Retail and hospitality'], ['Car journey', 'Home', 'Other', 'Public spaces', 'Transport', 'Retail and hospitality', 'Study', 'Sport and recreation', 'Work'], ['Car journey', 'Home', 'Other', 'Public spaces', 'Retail and hospitality', 'Sport and recreation'], ['Car journey', 'Home', 'Other', 'Public spaces', 'Transport', 'Retail and hospitality', 'Study'], ['Car journey', 'Home', 'Other', 'Transport', 'Retail and hospitality', 'Work'], ['Car journey', 'Home', 'Other', 'Transport', 'Retail and hospitality', 'Study'], ['Car journey', 'Home', 'Other', 'Transport', 'Sport and recreation'], ['Car journey', 'Home', 'Other', 'Transport', 'Sport and recreation', 'Work'], ['Car journey', 'Home', 'Other', 'Public spaces', 'Sport and recreation', 'Work'], ['Car journey', 'Home', 'Other', 'Retail and hospitality', 'Sport and recreation'], ['Other', 'Retail and hospitality', 'Work'], ['Home', 'Other', 'Public spaces', 'Retail and hospitality', 'Study', 'Sport and recreation', 'Work'], ['Other', 'Transport'], ['Arts and culture', 'Home', 'Other', 'Public spaces', 'Transport'], ['Arts and culture', 'Car journey', 'Home', 'Other', 'Transport', 'Retail and hospitality', 'Sport and recreation'], ['Arts and culture', 'Home', 'Other', 'Public spaces', 'Transport', 'Retail and hospitality']]\n"
     ]
    }
   ],
   "source": [
    "print(pred0)\n",
    "print(pred1)\n",
    "print(pred2)"
   ]
  },
  {
   "cell_type": "code",
   "execution_count": 76,
   "metadata": {},
   "outputs": [
    {
     "name": "stderr",
     "output_type": "stream",
     "text": [
      "/usr/local/lib/python3.7/site-packages/sklearn/utils/deprecation.py:144: FutureWarning: The sklearn.datasets.samples_generator module is  deprecated in version 0.22 and will be removed in version 0.24. The corresponding classes / functions should instead be imported from sklearn.datasets. Anything that cannot be imported from sklearn.datasets is now part of the private API.\n",
      "  warnings.warn(message, FutureWarning)\n"
     ]
    }
   ],
   "source": [
    "from sklearn.datasets.samples_generator import make_blobs\n",
    "x, y = make_blobs(n_samples=300, centers=4, cluster_std=0.6, random_state=0)"
   ]
  }
 ],
 "metadata": {
  "kernelspec": {
   "display_name": "Python 3",
   "language": "python",
   "name": "python3"
  },
  "language_info": {
   "codemirror_mode": {
    "name": "ipython",
    "version": 3
   },
   "file_extension": ".py",
   "mimetype": "text/x-python",
   "name": "python",
   "nbconvert_exporter": "python",
   "pygments_lexer": "ipython3",
   "version": "3.7.2"
  }
 },
 "nbformat": 4,
 "nbformat_minor": 2
}
